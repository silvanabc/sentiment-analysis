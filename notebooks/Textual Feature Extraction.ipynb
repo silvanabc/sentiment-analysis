{
 "cells": [
  {
   "cell_type": "markdown",
   "metadata": {},
   "source": [
    "# Textual Feature Extraction\n",
    "### Word2Vec"
   ]
  },
  {
   "cell_type": "code",
   "execution_count": 8,
   "metadata": {},
   "outputs": [],
   "source": [
    "from gensim.test.utils import common_texts, get_tmpfile\n",
    "from gensim.models import Word2Vec, KeyedVectors\n",
    "import gensim.models as g\n",
    "import numpy as np"
   ]
  },
  {
   "cell_type": "code",
   "execution_count": 2,
   "metadata": {},
   "outputs": [],
   "source": [
    "TXT_PATH = '../samples/text.txt'"
   ]
  },
  {
   "cell_type": "code",
   "execution_count": 3,
   "metadata": {},
   "outputs": [],
   "source": [
    "#Just a sample of the text file\n",
    "\n",
    "# textual = \\\n",
    "# [\"Let's compare the camera capabilities of the iphone eleven pro and \", \n",
    "# \"and the google pixel\",\n",
    "# \"pixel four\",\n",
    "# \"how is everyone doing today? It's Andrew here from Apple Insider and we have our google pixel four\",\n",
    "# \"and iphone eleven pro and iphone\"]"
   ]
  },
  {
   "cell_type": "markdown",
   "metadata": {},
   "source": [
    "### Import the word2vec from Google model"
   ]
  },
  {
   "cell_type": "markdown",
   "metadata": {},
   "source": [
    "Trained model available in https://drive.google.com/file/d/0B7XkCwpI5KDYNlNUTTlSS21pQmM/edit?usp=sharing"
   ]
  },
  {
   "cell_type": "code",
   "execution_count": 6,
   "metadata": {},
   "outputs": [],
   "source": [
    "model = KeyedVectors.load_word2vec_format('../GoogleNews-vectors-negative300.bin', binary=True)  "
   ]
  },
  {
   "cell_type": "markdown",
   "metadata": {},
   "source": [
    "### Transform the utterances into embedding"
   ]
  },
  {
   "cell_type": "code",
   "execution_count": 10,
   "metadata": {},
   "outputs": [],
   "source": [
    "with open(TXT_PATH, 'r') as file:\n",
    "    txt = file.read()\n",
    "\n",
    "utterances = txt.split('\\n')\n",
    "\n",
    "# utterances = textual"
   ]
  },
  {
   "cell_type": "code",
   "execution_count": 7,
   "metadata": {},
   "outputs": [],
   "source": [
    "# utterance_vectors = []\n",
    "# for u in utterances:\n",
    "#     words = u.strip().split(\" \")\n",
    "#     word_vectors = []\n",
    "#     errors = []\n",
    "#     for word in words:\n",
    "#         try:\n",
    "#             v = model[word]\n",
    "#             word_vectors.append(v)\n",
    "#         except:\n",
    "#             errors.append(word)\n",
    "#     utterance_vectors.append(word_vectors)"
   ]
  },
  {
   "cell_type": "code",
   "execution_count": 8,
   "metadata": {},
   "outputs": [
    {
     "name": "stdout",
     "output_type": "stream",
     "text": [
      "Embedding word count for each utterance: [9, 3, 2, 16, 4]\n"
     ]
    }
   ],
   "source": [
    "# len_utterances = []\n",
    "# for u in utterance_vectors:\n",
    "#     len_utterances.append(len(u))\n",
    "# print(\"Embedding word count for each utterance:\", len_utterances)"
   ]
  },
  {
   "cell_type": "markdown",
   "metadata": {},
   "source": [
    "#### Utterances in a window of 50 words"
   ]
  },
  {
   "cell_type": "code",
   "execution_count": 18,
   "metadata": {},
   "outputs": [],
   "source": [
    "SIZE = 50"
   ]
  },
  {
   "cell_type": "code",
   "execution_count": 58,
   "metadata": {},
   "outputs": [],
   "source": [
    "def wrap_words_vector(words_vector, size=SIZE):\n",
    "\n",
    "    before_len = int((size - len(words_vector))/2)\n",
    "    after_len = size - len(words_vector) - before_len\n",
    "    \n",
    "    words_vector = np.array(words_vector)\n",
    "\n",
    "    return np.pad(words_vector, ((before_len, after_len),(0,0)), 'wrap')"
   ]
  },
  {
   "cell_type": "code",
   "execution_count": 62,
   "metadata": {},
   "outputs": [],
   "source": [
    "utterance_vectors = []\n",
    "for u in utterances:\n",
    "    words = u.strip().split(\" \")\n",
    "    word_vectors = []\n",
    "    errors = []\n",
    "    for word in words:\n",
    "        try:\n",
    "            v = model[word]\n",
    "            word_vectors.append(v)\n",
    "        except:\n",
    "            errors.append(word)\n",
    "    utterance_vectors.append(wrap_words_vector(word_vectors))"
   ]
  },
  {
   "cell_type": "code",
   "execution_count": 67,
   "metadata": {},
   "outputs": [
    {
     "data": {
      "text/plain": [
       "(5, 50, 300)"
      ]
     },
     "execution_count": 67,
     "metadata": {},
     "output_type": "execute_result"
    }
   ],
   "source": [
    "wrapped_array = np.array(utterance_vectors)\n",
    "wrapped_array.shape"
   ]
  },
  {
   "cell_type": "code",
   "execution_count": 167,
   "metadata": {},
   "outputs": [],
   "source": [
    "# length = max(map(len, utterance_vectors)) #length as the max of the array\n",
    "# length = 50\n",
    "# fill_value = None\n",
    "\n",
    "# wrapped_array = np.array([xi+[fill_value]*(length-len(xi)) for xi in utterance_vectors])"
   ]
  },
  {
   "cell_type": "markdown",
   "metadata": {},
   "source": [
    "## Doc2Vec\n",
    "---"
   ]
  },
  {
   "cell_type": "code",
   "execution_count": 11,
   "metadata": {},
   "outputs": [
    {
     "data": {
      "text/plain": [
       "[\"Let's compare the camera capabilities of the iphone eleven pro and\",\n",
       " 'and the google pixel',\n",
       " 'pixel four',\n",
       " \"how is everyone doing today? It's Andrew here from Apple Insider and we have our google pixel four\",\n",
       " 'and iphone eleven pro and iphone']"
      ]
     },
     "execution_count": 11,
     "metadata": {},
     "output_type": "execute_result"
    }
   ],
   "source": [
    "utterances"
   ]
  },
  {
   "cell_type": "code",
   "execution_count": 18,
   "metadata": {},
   "outputs": [
    {
     "data": {
      "text/plain": [
       "[\"Let's\",\n",
       " 'compare',\n",
       " 'the',\n",
       " 'camera',\n",
       " 'capabilities',\n",
       " 'of',\n",
       " 'the',\n",
       " 'iphone',\n",
       " 'eleven',\n",
       " 'pro',\n",
       " 'and']"
      ]
     },
     "execution_count": 18,
     "metadata": {},
     "output_type": "execute_result"
    }
   ],
   "source": [
    "d.split(\" \")"
   ]
  },
  {
   "cell_type": "code",
   "execution_count": 25,
   "metadata": {},
   "outputs": [
    {
     "data": {
      "text/plain": [
       "300"
      ]
     },
     "execution_count": 25,
     "metadata": {},
     "output_type": "execute_result"
    }
   ],
   "source": [
    "len([str(x) for x in m.infer_vector(test_docs, alpha=start_alpha, steps=infer_epoch)])"
   ]
  },
  {
   "cell_type": "code",
   "execution_count": 19,
   "metadata": {},
   "outputs": [
    {
     "data": {
      "text/plain": [
       "['0.36878297',\n",
       " '0.34405023',\n",
       " '-0.214533',\n",
       " '0.08435037',\n",
       " '-0.1798916',\n",
       " '-0.060454745',\n",
       " '-0.22238415',\n",
       " '0.07172304',\n",
       " '-0.20102006',\n",
       " '-0.46661058',\n",
       " '-0.20639792',\n",
       " '0.11113937',\n",
       " '-0.20367683',\n",
       " '-0.051938426',\n",
       " '-0.13255318',\n",
       " '0.4935477',\n",
       " '-0.124152206',\n",
       " '-0.066279486',\n",
       " '0.1410211',\n",
       " '-0.40527254',\n",
       " '-0.05665961',\n",
       " '0.17875622',\n",
       " '-0.11979982',\n",
       " '0.058868203',\n",
       " '-0.19698696',\n",
       " '-0.2504617',\n",
       " '-0.08481648',\n",
       " '0.023964807',\n",
       " '0.20457189',\n",
       " '0.1722341',\n",
       " '-0.42373616',\n",
       " '-0.1877823',\n",
       " '0.18882646',\n",
       " '-0.05446589',\n",
       " '-0.037847076',\n",
       " '0.4332985',\n",
       " '-0.29896334',\n",
       " '0.12569515',\n",
       " '-0.3236517',\n",
       " '0.17783745',\n",
       " '0.2666335',\n",
       " '0.07923847',\n",
       " '0.12227494',\n",
       " '0.16096915',\n",
       " '-0.11447982',\n",
       " '0.07860984',\n",
       " '-0.15948121',\n",
       " '-0.3672294',\n",
       " '0.25183526',\n",
       " '0.2870646',\n",
       " '-0.2942796',\n",
       " '-0.09714412',\n",
       " '-0.56851834',\n",
       " '0.36996162',\n",
       " '0.19262776',\n",
       " '-0.38897887',\n",
       " '0.30662176',\n",
       " '-0.22240844',\n",
       " '0.20285816',\n",
       " '0.28465497',\n",
       " '0.12787916',\n",
       " '0.11868433',\n",
       " '-0.07675509',\n",
       " '-0.059719436',\n",
       " '0.37959814',\n",
       " '-0.027278246',\n",
       " '0.028984334',\n",
       " '-0.64636344',\n",
       " '0.08805406',\n",
       " '0.014567928',\n",
       " '0.08931536',\n",
       " '-0.12484533',\n",
       " '-0.13096477',\n",
       " '-0.08017564',\n",
       " '-0.11272154',\n",
       " '0.42865434',\n",
       " '0.07257381',\n",
       " '0.23311879',\n",
       " '0.6248821',\n",
       " '0.115601264',\n",
       " '0.17134425',\n",
       " '-0.24370539',\n",
       " '-0.12286155',\n",
       " '-0.11052027',\n",
       " '0.09680171',\n",
       " '0.23478259',\n",
       " '0.10426831',\n",
       " '-0.627601',\n",
       " '0.35422233',\n",
       " '-0.06649315',\n",
       " '0.15772657',\n",
       " '0.2828274',\n",
       " '0.09351068',\n",
       " '-0.050383892',\n",
       " '-0.3114636',\n",
       " '-0.03311261',\n",
       " '-0.26234132',\n",
       " '-0.13363338',\n",
       " '-0.41885954',\n",
       " '-0.471521',\n",
       " '0.042161446',\n",
       " '-0.032330867',\n",
       " '-0.036472578',\n",
       " '-0.017417124',\n",
       " '0.17801067',\n",
       " '0.21166785',\n",
       " '0.014878798',\n",
       " '-0.31286636',\n",
       " '-0.033094376',\n",
       " '0.39309323',\n",
       " '-0.223899',\n",
       " '-0.09371574',\n",
       " '0.48556277',\n",
       " '-0.043475486',\n",
       " '-0.088352695',\n",
       " '-0.10135359',\n",
       " '0.13250853',\n",
       " '0.12288793',\n",
       " '-0.20924625',\n",
       " '-0.03480086',\n",
       " '-0.08747468',\n",
       " '0.10793548',\n",
       " '0.13545826',\n",
       " '0.17332478',\n",
       " '-0.35265714',\n",
       " '0.08168822',\n",
       " '-0.079741254',\n",
       " '0.534308',\n",
       " '-0.14950167',\n",
       " '-0.04590039',\n",
       " '-0.25731832',\n",
       " '-0.15601937',\n",
       " '0.3912502',\n",
       " '0.09848825',\n",
       " '-0.19116166',\n",
       " '0.057153873',\n",
       " '0.16574493',\n",
       " '0.19412167',\n",
       " '-0.25771204',\n",
       " '-0.25039944',\n",
       " '-0.41722795',\n",
       " '-0.08793216',\n",
       " '0.19134684',\n",
       " '-0.15822451',\n",
       " '0.042394463',\n",
       " '-0.25922886',\n",
       " '0.05824138',\n",
       " '-0.07055226',\n",
       " '-0.22809145',\n",
       " '-0.18129997',\n",
       " '-0.31513995',\n",
       " '0.06962924',\n",
       " '-0.10133678',\n",
       " '0.11128066',\n",
       " '0.18185857',\n",
       " '0.02007573',\n",
       " '-0.032408275',\n",
       " '0.052419037',\n",
       " '-0.6098324',\n",
       " '-0.1816428',\n",
       " '-0.28543893',\n",
       " '0.06272767',\n",
       " '0.091270626',\n",
       " '0.15370613',\n",
       " '-0.17834158',\n",
       " '0.08708748',\n",
       " '-0.028463645',\n",
       " '0.20154548',\n",
       " '0.15142348',\n",
       " '0.12698339',\n",
       " '-0.26265627',\n",
       " '0.016187467',\n",
       " '-0.4289389',\n",
       " '0.31759351',\n",
       " '-0.4305465',\n",
       " '-0.083800375',\n",
       " '-0.10032126',\n",
       " '-0.30503505',\n",
       " '0.64031804',\n",
       " '-0.36717686',\n",
       " '0.5163302',\n",
       " '0.3450638',\n",
       " '-0.11922896',\n",
       " '0.38907838',\n",
       " '0.26177564',\n",
       " '0.089831404',\n",
       " '-0.022018272',\n",
       " '0.17527981',\n",
       " '-0.12697414',\n",
       " '0.111781515',\n",
       " '-0.2239389',\n",
       " '0.13471459',\n",
       " '0.13088623',\n",
       " '0.14190874',\n",
       " '-0.0380106',\n",
       " '0.16678725',\n",
       " '-0.14468113',\n",
       " '0.04129118',\n",
       " '0.015822787',\n",
       " '0.0976244',\n",
       " '0.19719866',\n",
       " '0.3088519',\n",
       " '0.12807216',\n",
       " '-0.06742749',\n",
       " '0.098009944',\n",
       " '-0.024708439',\n",
       " '-0.44796124',\n",
       " '0.3441653',\n",
       " '-0.32561037',\n",
       " '-0.53519785',\n",
       " '-0.35464284',\n",
       " '0.13679586',\n",
       " '-0.03148198',\n",
       " '-0.13414611',\n",
       " '0.15694772',\n",
       " '-0.13279518',\n",
       " '-0.004854187',\n",
       " '-0.44232288',\n",
       " '0.045026354',\n",
       " '0.18214443',\n",
       " '0.43673357',\n",
       " '0.13686194',\n",
       " '-0.36839545',\n",
       " '0.08970441',\n",
       " '-0.20018826',\n",
       " '0.0058950423',\n",
       " '-0.15094467',\n",
       " '-0.42607424',\n",
       " '0.43534753',\n",
       " '-0.24148968',\n",
       " '-0.10305179',\n",
       " '0.2094481',\n",
       " '0.11646046',\n",
       " '-0.13792618',\n",
       " '0.356194',\n",
       " '0.130017',\n",
       " '0.017896445',\n",
       " '0.15972644',\n",
       " '0.14840174',\n",
       " '0.5088829',\n",
       " '-0.25209805',\n",
       " '0.055649523',\n",
       " '-0.2799284',\n",
       " '0.07646128',\n",
       " '0.18947388',\n",
       " '0.38510805',\n",
       " '-0.1750196',\n",
       " '-0.28535804',\n",
       " '0.15197583',\n",
       " '0.11718678',\n",
       " '0.20302276',\n",
       " '-0.2719177',\n",
       " '-0.5648816',\n",
       " '0.23712575',\n",
       " '0.5770229',\n",
       " '0.4100524',\n",
       " '0.44519213',\n",
       " '-0.06685337',\n",
       " '0.1239791',\n",
       " '0.06606028',\n",
       " '0.24370769',\n",
       " '-0.039581247',\n",
       " '-0.5528856',\n",
       " '0.011179282',\n",
       " '-0.11592122',\n",
       " '0.26741254',\n",
       " '-0.21268521',\n",
       " '0.14081866',\n",
       " '-0.09328624',\n",
       " '-0.26469785',\n",
       " '-0.21132341',\n",
       " '0.19190782',\n",
       " '-0.029151483',\n",
       " '-0.017423984',\n",
       " '-0.5338782',\n",
       " '0.29313987',\n",
       " '-0.02057558',\n",
       " '0.04251366',\n",
       " '-0.31167582',\n",
       " '-0.17520985',\n",
       " '-0.29419675',\n",
       " '0.05329996',\n",
       " '-0.14159983',\n",
       " '-0.17631322',\n",
       " '0.09372115',\n",
       " '0.30040887',\n",
       " '-0.34436393',\n",
       " '-0.032536194',\n",
       " '-0.2955723',\n",
       " '0.12870176',\n",
       " '0.056244135',\n",
       " '-0.06424341',\n",
       " '0.16791175',\n",
       " '0.3670686',\n",
       " '-0.33658057',\n",
       " '0.3795435',\n",
       " '0.2145381',\n",
       " '0.21639931',\n",
       " '0.19605048',\n",
       " '0.32433948']"
      ]
     },
     "execution_count": 19,
     "metadata": {},
     "output_type": "execute_result"
    }
   ],
   "source": [
    "#load model\n",
    "m = g.Doc2Vec.load('../apnews_dbow/doc2vec.bin')\n",
    "test_docs = utterances\n",
    "\n",
    "start_alpha=0.01\n",
    "infer_epoch=1000\n",
    "\n",
    "#infer test vectors\n",
    "for d in test_docs:\n",
    "    a = [str(x) for x in m.infer_vector(d.split(\" \"), alpha=start_alpha, steps=infer_epoch)]\n",
    "    break\n",
    "\n",
    "a"
   ]
  },
  {
   "cell_type": "code",
   "execution_count": 22,
   "metadata": {},
   "outputs": [
    {
     "data": {
      "text/plain": [
       "300"
      ]
     },
     "execution_count": 22,
     "metadata": {},
     "output_type": "execute_result"
    }
   ],
   "source": [
    "len(a)"
   ]
  }
 ],
 "metadata": {
  "kernelspec": {
   "display_name": "Python 3",
   "language": "python",
   "name": "python3"
  },
  "language_info": {
   "codemirror_mode": {
    "name": "ipython",
    "version": 3
   },
   "file_extension": ".py",
   "mimetype": "text/x-python",
   "name": "python",
   "nbconvert_exporter": "python",
   "pygments_lexer": "ipython3",
   "version": "3.6.3"
  }
 },
 "nbformat": 4,
 "nbformat_minor": 2
}
