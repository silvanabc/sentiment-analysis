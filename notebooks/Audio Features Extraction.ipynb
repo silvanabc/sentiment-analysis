{
 "cells": [
  {
   "cell_type": "markdown",
   "metadata": {},
   "source": [
    "# Audio Feature Extraction \n",
    "---"
   ]
  },
  {
   "cell_type": "code",
   "execution_count": 7,
   "metadata": {},
   "outputs": [],
   "source": [
    "import numpy as np\n",
    "import sys\n",
    "sys.path.insert(0, '../opensmile-python/') #insert the kinects-i3d project to the path"
   ]
  },
  {
   "cell_type": "markdown",
   "metadata": {},
   "source": [
    "### Generating the output"
   ]
  },
  {
   "cell_type": "code",
   "execution_count": 24,
   "metadata": {},
   "outputs": [
    {
     "name": "stdout",
     "output_type": "stream",
     "text": [
      "one-Copy1.wav\n",
      "SMILExtract -C ../opensmile-python/config/emobase2010.conf -I ../opensmile-python/audio/one-Copy1.wav -O ../opensmile-python/output/emobase2010one-Copy1.txt -csvoutput ../opensmile-python/output/emobase2010one-Copy1.csv \n",
      "(MSG) [2] in SMILExtract : openSMILE starting!\n",
      "(MSG) [2] in SMILExtract : config file is: ../opensmile-python/config/emobase2010.conf\n",
      "(MSG) [2] in cComponentManager : successfully registered 99 component types.\n",
      "(ERROR) [0] in commandlineParser : doParse: unknown option '-csvoutput' on commandline!\n",
      "(WARN) [2] in instance 'lld.reader' : Inconsistency in input level parameters. growDyn on first (#1) input = 0, growDyn on input # 5 (pitch) = 1. This might cause the processing to hang unpredictably or cause incomplete processing.\n",
      "(WARN) [2] in instance 'lld.reader' : Inconsistency in input level parameters. isRb on first (#1) input = 1, isRb on input # 5 (pitch) = 0. This might cause the processing to hang unpredictably or cause incomplete processing.\n",
      "(WARN) [1] in instance 'lld.reader' : Mismatch in input level buffer sizes (levelconf.nT). Level #0 has size 2 which is smaller than the max. input size of all input levels (10). This might cause the processing to hang unpredictably or cause incomplete processing.\n",
      "(WARN) [1] in instance 'lld.reader' : Mismatch in input level buffer sizes (levelconf.nT). Level #1 has size 2 which is smaller than the max. input size of all input levels (10). This might cause the processing to hang unpredictably or cause incomplete processing.\n",
      "(WARN) [1] in instance 'lld.reader' : Mismatch in input level buffer sizes (levelconf.nT). Level #2 has size 2 which is smaller than the max. input size of all input levels (10). This might cause the processing to hang unpredictably or cause incomplete processing.\n",
      "(WARN) [1] in instance 'lld.reader' : Mismatch in input level buffer sizes (levelconf.nT). Level #3 has size 2 which is smaller than the max. input size of all input levels (10). This might cause the processing to hang unpredictably or cause incomplete processing.\n",
      "(WARN) [1] in instance 'lld2.reader' : Mismatch in input level buffer sizes (levelconf.nT). Level #0 has size 10 which is smaller than the max. input size of all input levels (100). This might cause the processing to hang unpredictably or cause incomplete processing.\n",
      "(MSG) [2] in instance 'arffsink' : writing ARFF header (1582 features)...\n",
      "(MSG) [2] in cComponentManager : successfully finished createInstances\n",
      "                                 (31 component instances were finalised, 1 data memories were finalised)\n",
      "(MSG) [2] in cComponentManager : starting single thread processing loop\n",
      "(MSG) [2] in cComponentManager : Processing finished! System ran for 108 ticks.\n",
      "(1, 1566)\n",
      "one.wav\n",
      "SMILExtract -C ../opensmile-python/config/emobase2010.conf -I ../opensmile-python/audio/one.wav -O ../opensmile-python/output/emobase2010one.txt -csvoutput ../opensmile-python/output/emobase2010one.csv \n",
      "(MSG) [2] in SMILExtract : openSMILE starting!\n",
      "(MSG) [2] in SMILExtract : config file is: ../opensmile-python/config/emobase2010.conf\n",
      "(MSG) [2] in cComponentManager : successfully registered 99 component types.\n",
      "(ERROR) [0] in commandlineParser : doParse: unknown option '-csvoutput' on commandline!\n",
      "(WARN) [2] in instance 'lld.reader' : Inconsistency in input level parameters. growDyn on first (#1) input = 0, growDyn on input # 5 (pitch) = 1. This might cause the processing to hang unpredictably or cause incomplete processing.\n",
      "(WARN) [2] in instance 'lld.reader' : Inconsistency in input level parameters. isRb on first (#1) input = 1, isRb on input # 5 (pitch) = 0. This might cause the processing to hang unpredictably or cause incomplete processing.\n",
      "(WARN) [1] in instance 'lld.reader' : Mismatch in input level buffer sizes (levelconf.nT). Level #0 has size 2 which is smaller than the max. input size of all input levels (10). This might cause the processing to hang unpredictably or cause incomplete processing.\n",
      "(WARN) [1] in instance 'lld.reader' : Mismatch in input level buffer sizes (levelconf.nT). Level #1 has size 2 which is smaller than the max. input size of all input levels (10). This might cause the processing to hang unpredictably or cause incomplete processing.\n",
      "(WARN) [1] in instance 'lld.reader' : Mismatch in input level buffer sizes (levelconf.nT). Level #2 has size 2 which is smaller than the max. input size of all input levels (10). This might cause the processing to hang unpredictably or cause incomplete processing.\n",
      "(WARN) [1] in instance 'lld.reader' : Mismatch in input level buffer sizes (levelconf.nT). Level #3 has size 2 which is smaller than the max. input size of all input levels (10). This might cause the processing to hang unpredictably or cause incomplete processing.\n",
      "(WARN) [1] in instance 'lld2.reader' : Mismatch in input level buffer sizes (levelconf.nT). Level #0 has size 10 which is smaller than the max. input size of all input levels (100). This might cause the processing to hang unpredictably or cause incomplete processing.\n",
      "(MSG) [2] in instance 'arffsink' : writing ARFF header (1582 features)...\n",
      "(MSG) [2] in cComponentManager : successfully finished createInstances\n",
      "                                 (31 component instances were finalised, 1 data memories were finalised)\n",
      "(MSG) [2] in cComponentManager : starting single thread processing loop\n",
      "(MSG) [2] in cComponentManager : Processing finished! System ran for 108 ticks.\n",
      "(1, 1566)\n"
     ]
    }
   ],
   "source": [
    "! python ../opensmile-python/main.py emobase2010 ''"
   ]
  },
  {
   "cell_type": "code",
   "execution_count": 40,
   "metadata": {},
   "outputs": [],
   "source": [
    "OUTPUT_PATH = '../opensmile-python/output/'\n",
    "FEATURES_LENGTH = 1566"
   ]
  },
  {
   "cell_type": "markdown",
   "metadata": {},
   "source": [
    "### Get the array with the audio features"
   ]
  },
  {
   "cell_type": "code",
   "execution_count": 52,
   "metadata": {},
   "outputs": [],
   "source": [
    "result_array = np.empty((0,FEATURES_LENGTH))\n",
    "\n",
    "for filename in os.listdir(OUTPUT_PATH):\n",
    "    if(filename[-4:] == '.npy'):\n",
    "        f = np.load(OUTPUT_PATH + filename)\n",
    "        result_array = np.append(result_array, f, axis=0)"
   ]
  },
  {
   "cell_type": "code",
   "execution_count": 53,
   "metadata": {},
   "outputs": [
    {
     "data": {
      "text/plain": [
       "(2, 1566)"
      ]
     },
     "execution_count": 53,
     "metadata": {},
     "output_type": "execute_result"
    }
   ],
   "source": [
    "result_array.shape"
   ]
  },
  {
   "cell_type": "markdown",
   "metadata": {},
   "source": [
    "### Normalizing the array"
   ]
  },
  {
   "cell_type": "code",
   "execution_count": 63,
   "metadata": {},
   "outputs": [
    {
     "data": {
      "text/plain": [
       "array([[-0.08392767, -0.08924638, -0.08491559, ..., -0.08963752,\n",
       "        -0.07702771, -0.07782121],\n",
       "       [-0.08392767, -0.08924638, -0.08491559, ..., -0.08963752,\n",
       "        -0.07702771, -0.07782121]])"
      ]
     },
     "execution_count": 63,
     "metadata": {},
     "output_type": "execute_result"
    }
   ],
   "source": [
    "from scipy import stats\n",
    "stats.zscore(result_array.astype(np.float), axis=1)"
   ]
  }
 ],
 "metadata": {
  "kernelspec": {
   "display_name": "Python 3",
   "language": "python",
   "name": "python3"
  },
  "language_info": {
   "codemirror_mode": {
    "name": "ipython",
    "version": 3
   },
   "file_extension": ".py",
   "mimetype": "text/x-python",
   "name": "python",
   "nbconvert_exporter": "python",
   "pygments_lexer": "ipython3",
   "version": "3.6.3"
  }
 },
 "nbformat": 4,
 "nbformat_minor": 2
}
