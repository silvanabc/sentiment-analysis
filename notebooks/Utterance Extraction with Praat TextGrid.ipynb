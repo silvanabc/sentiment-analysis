{
 "cells": [
  {
   "cell_type": "markdown",
   "metadata": {},
   "source": [
    "# Utterance Extraction\n",
    "---\n",
    "\n",
    "<div>Given a Praat TextGrid separated by silences, generate the segmented audios and video files.</div><br/>\n",
    "\n",
    "\n",
    "<div>\n",
    "Input: Praat TextGrid<br/>\n",
    "Output: segmented Audio and Video Files\n",
    "<div>"
   ]
  },
  {
   "cell_type": "markdown",
   "metadata": {},
   "source": [
    "## 1. Get intervals from Praat TextGrid"
   ]
  },
  {
   "cell_type": "code",
   "execution_count": 1,
   "metadata": {},
   "outputs": [],
   "source": [
    "import io\n",
    "from tgre import praat_reader\n",
    "import pandas as pd\n",
    "\n",
    "TEXT_GRID_PATH = 'extractTest/textGridVideoTest1'"
   ]
  },
  {
   "cell_type": "code",
   "execution_count": 2,
   "metadata": {},
   "outputs": [],
   "source": [
    "with io.open(TEXT_GRID_PATH) as textgrid:\n",
    "    textgrid_string = textgrid.read()\n",
    "    textgrid_list = list(praat_reader(textgrid_string))"
   ]
  },
  {
   "cell_type": "code",
   "execution_count": 3,
   "metadata": {},
   "outputs": [
    {
     "data": {
      "text/plain": [
       "[0,\n",
       " 543.5156235827665,\n",
       " 458,\n",
       " 0,\n",
       " 4.193811791383224,\n",
       " 'sounding',\n",
       " 4.193811791383224,\n",
       " 4.617811791383225,\n",
       " 'silent',\n",
       " 4.617811791383225]"
      ]
     },
     "execution_count": 3,
     "metadata": {},
     "output_type": "execute_result"
    }
   ],
   "source": [
    "intervals = textgrid_list[7:] #removing unnecessary infos\n",
    "intervals[:10]"
   ]
  },
  {
   "cell_type": "code",
   "execution_count": 4,
   "metadata": {},
   "outputs": [],
   "source": [
    "time_begin = intervals[0]\n",
    "time_end = intervals[1]\n",
    "qtd_intervals = intervals[2]\n",
    "intervals = intervals[3:]"
   ]
  },
  {
   "cell_type": "code",
   "execution_count": 5,
   "metadata": {},
   "outputs": [
    {
     "data": {
      "text/plain": [
       "[0,\n",
       " 4.193811791383224,\n",
       " 'sounding',\n",
       " 4.193811791383224,\n",
       " 4.617811791383225,\n",
       " 'silent',\n",
       " 4.617811791383225,\n",
       " 5.841811791383224,\n",
       " 'sounding',\n",
       " 5.841811791383224]"
      ]
     },
     "execution_count": 5,
     "metadata": {},
     "output_type": "execute_result"
    }
   ],
   "source": [
    "intervals[:10]"
   ]
  },
  {
   "cell_type": "code",
   "execution_count": 6,
   "metadata": {},
   "outputs": [
    {
     "name": "stdout",
     "output_type": "stream",
     "text": [
      "Video with 543.52 seconds and 458 itervals\n"
     ]
    }
   ],
   "source": [
    "print(\"Video with {0:0.2f} seconds and {1} itervals\".format(time_end  - time_begin, qtd_intervals))"
   ]
  },
  {
   "cell_type": "code",
   "execution_count": 7,
   "metadata": {},
   "outputs": [],
   "source": [
    "i = 0\n",
    "df = pd.DataFrame()\n",
    "while(i < len(intervals)):\n",
    "    begin = intervals[i]\n",
    "    end = intervals[i+4]\n",
    "    df = df.append({'begin': begin, 'end': end}, ignore_index=True)\n",
    "    i = i + 6"
   ]
  },
  {
   "cell_type": "code",
   "execution_count": 8,
   "metadata": {},
   "outputs": [],
   "source": [
    "assert qtd_intervals/2 == len(df)"
   ]
  },
  {
   "cell_type": "code",
   "execution_count": 9,
   "metadata": {},
   "outputs": [
    {
     "data": {
      "text/html": [
       "<div>\n",
       "<style>\n",
       "    .dataframe thead tr:only-child th {\n",
       "        text-align: right;\n",
       "    }\n",
       "\n",
       "    .dataframe thead th {\n",
       "        text-align: left;\n",
       "    }\n",
       "\n",
       "    .dataframe tbody tr th {\n",
       "        vertical-align: top;\n",
       "    }\n",
       "</style>\n",
       "<table border=\"1\" class=\"dataframe\">\n",
       "  <thead>\n",
       "    <tr style=\"text-align: right;\">\n",
       "      <th></th>\n",
       "      <th>begin</th>\n",
       "      <th>end</th>\n",
       "    </tr>\n",
       "  </thead>\n",
       "  <tbody>\n",
       "    <tr>\n",
       "      <th>0</th>\n",
       "      <td>0.000000</td>\n",
       "      <td>4.617812</td>\n",
       "    </tr>\n",
       "    <tr>\n",
       "      <th>1</th>\n",
       "      <td>4.617812</td>\n",
       "      <td>6.201812</td>\n",
       "    </tr>\n",
       "    <tr>\n",
       "      <th>2</th>\n",
       "      <td>6.201812</td>\n",
       "      <td>7.033812</td>\n",
       "    </tr>\n",
       "    <tr>\n",
       "      <th>3</th>\n",
       "      <td>7.033812</td>\n",
       "      <td>15.001812</td>\n",
       "    </tr>\n",
       "    <tr>\n",
       "      <th>4</th>\n",
       "      <td>15.001812</td>\n",
       "      <td>16.961812</td>\n",
       "    </tr>\n",
       "    <tr>\n",
       "      <th>5</th>\n",
       "      <td>16.961812</td>\n",
       "      <td>18.729812</td>\n",
       "    </tr>\n",
       "    <tr>\n",
       "      <th>6</th>\n",
       "      <td>18.729812</td>\n",
       "      <td>20.809812</td>\n",
       "    </tr>\n",
       "    <tr>\n",
       "      <th>7</th>\n",
       "      <td>20.809812</td>\n",
       "      <td>22.849812</td>\n",
       "    </tr>\n",
       "    <tr>\n",
       "      <th>8</th>\n",
       "      <td>22.849812</td>\n",
       "      <td>24.289812</td>\n",
       "    </tr>\n",
       "    <tr>\n",
       "      <th>9</th>\n",
       "      <td>24.289812</td>\n",
       "      <td>27.953812</td>\n",
       "    </tr>\n",
       "  </tbody>\n",
       "</table>\n",
       "</div>"
      ],
      "text/plain": [
       "       begin        end\n",
       "0   0.000000   4.617812\n",
       "1   4.617812   6.201812\n",
       "2   6.201812   7.033812\n",
       "3   7.033812  15.001812\n",
       "4  15.001812  16.961812\n",
       "5  16.961812  18.729812\n",
       "6  18.729812  20.809812\n",
       "7  20.809812  22.849812\n",
       "8  22.849812  24.289812\n",
       "9  24.289812  27.953812"
      ]
     },
     "execution_count": 9,
     "metadata": {},
     "output_type": "execute_result"
    }
   ],
   "source": [
    "df[:10]"
   ]
  },
  {
   "cell_type": "code",
   "execution_count": 10,
   "metadata": {},
   "outputs": [],
   "source": [
    "df['size'] = df.end - df.begin"
   ]
  },
  {
   "cell_type": "code",
   "execution_count": 11,
   "metadata": {},
   "outputs": [
    {
     "data": {
      "text/plain": [
       "count    229.000000\n",
       "mean       2.373431\n",
       "std        1.606962\n",
       "min        0.440000\n",
       "25%        1.096000\n",
       "50%        2.040000\n",
       "75%        3.184000\n",
       "max       11.496000\n",
       "Name: size, dtype: float64"
      ]
     },
     "execution_count": 11,
     "metadata": {},
     "output_type": "execute_result"
    }
   ],
   "source": [
    "df['size'].describe()"
   ]
  },
  {
   "cell_type": "code",
   "execution_count": 14,
   "metadata": {},
   "outputs": [],
   "source": [
    "df = df[df['size'] > 3.2]"
   ]
  },
  {
   "cell_type": "markdown",
   "metadata": {},
   "source": [
    "## 2. Split Video and Audio Files"
   ]
  },
  {
   "cell_type": "code",
   "execution_count": 15,
   "metadata": {},
   "outputs": [],
   "source": [
    "from moviepy.editor import VideoFileClip"
   ]
  },
  {
   "cell_type": "code",
   "execution_count": 18,
   "metadata": {},
   "outputs": [],
   "source": [
    "VIDEO_PATH = \"extractTest/videoTest1.mp4\"\n",
    "AUDIO_DEST_FOLDER = \"extractTest/audio/long/\"\n",
    "VIDEO_DEST_FOLDER = \"extractTest/video/long/\"\n",
    "\n",
    "video = VideoFileClip(VIDEO_PATH)"
   ]
  },
  {
   "cell_type": "code",
   "execution_count": 20,
   "metadata": {},
   "outputs": [
    {
     "name": "stderr",
     "output_type": "stream",
     "text": [
      "chunk:  32%|███▏      | 33/102 [00:33<01:10,  1.02s/it, now=None]\n",
      "chunk:   0%|          | 0/102 [00:00<?, ?it/s, now=None]\u001b[A\n",
      "chunk:  37%|███▋      | 38/102 [00:00<00:00, 372.20it/s, now=None]\u001b[A"
     ]
    },
    {
     "name": "stdout",
     "output_type": "stream",
     "text": [
      "MoviePy - Writing audio in %s\n"
     ]
    },
    {
     "name": "stderr",
     "output_type": "stream",
     "text": [
      "\n",
      "chunk:  66%|██████▌   | 67/102 [00:00<00:00, 342.43it/s, now=None]\u001b[A\n",
      "chunk:  96%|█████████▌| 98/102 [00:00<00:00, 327.52it/s, now=None]\u001b[A\n",
      "chunk:  32%|███▏      | 33/102 [00:34<01:11,  1.03s/it, now=None] \u001b[A\n",
      "t:   0%|          | 0/139 [00:00<?, ?it/s, now=None]\u001b[A\n",
      "t:  12%|█▏        | 17/139 [00:00<00:00, 168.38it/s, now=None]\u001b[A"
     ]
    },
    {
     "name": "stdout",
     "output_type": "stream",
     "text": [
      "MoviePy - Done.\n",
      "Moviepy - Building video extractTest/video/long/0.mp4.\n",
      "Moviepy - Writing video extractTest/video/long/0.mp4\n",
      "\n"
     ]
    },
    {
     "name": "stderr",
     "output_type": "stream",
     "text": [
      "\n",
      "t:  27%|██▋       | 37/139 [00:00<00:00, 176.11it/s, now=None]\u001b[A\n",
      "t:  35%|███▍      | 48/139 [00:00<00:00, 139.92it/s, now=None]\u001b[A\n",
      "t:  42%|████▏     | 58/139 [00:00<00:00, 119.85it/s, now=None]\u001b[A\n",
      "t:  49%|████▉     | 68/139 [00:00<00:00, 112.01it/s, now=None]\u001b[A\n",
      "t:  56%|█████▌    | 78/139 [00:00<00:00, 106.98it/s, now=None]\u001b[A\n",
      "t:  64%|██████▍   | 89/139 [00:00<00:00, 105.72it/s, now=None]\u001b[A\n",
      "t:  71%|███████   | 99/139 [00:00<00:00, 103.33it/s, now=None]\u001b[A\n",
      "t:  78%|███████▊  | 109/139 [00:00<00:00, 101.50it/s, now=None]\u001b[A\n",
      "t:  86%|████████▌ | 119/139 [00:01<00:00, 93.88it/s, now=None] \u001b[A\n",
      "t:  93%|█████████▎| 129/139 [00:01<00:00, 94.47it/s, now=None]\u001b[A\n",
      "t: 100%|██████████| 139/139 [00:01<00:00, 95.23it/s, now=None]\u001b[A\n",
      "chunk:  32%|███▏      | 33/102 [00:35<01:15,  1.09s/it, now=None]\n",
      "chunk:   0%|          | 0/176 [00:00<?, ?it/s, now=None]\u001b[A"
     ]
    },
    {
     "name": "stdout",
     "output_type": "stream",
     "text": [
      "Moviepy - Done !\n",
      "Moviepy - video ready extractTest/video/long/0.mp4\n",
      "MoviePy - Writing audio in %s\n"
     ]
    },
    {
     "name": "stderr",
     "output_type": "stream",
     "text": [
      "\n",
      "chunk:  22%|██▏       | 38/176 [00:00<00:00, 196.04it/s, now=None]\u001b[A\n",
      "chunk:  33%|███▎      | 58/176 [00:00<00:00, 185.66it/s, now=None]\u001b[A\n",
      "chunk:  42%|████▏     | 74/176 [00:00<00:00, 177.08it/s, now=None]\u001b[A\n",
      "chunk:  54%|█████▍    | 95/176 [00:00<00:00, 185.77it/s, now=None]\u001b[A\n",
      "chunk:  68%|██████▊   | 120/176 [00:00<00:00, 195.22it/s, now=None]\u001b[A\n",
      "chunk:  81%|████████  | 142/176 [00:00<00:00, 201.82it/s, now=None]\u001b[A\n",
      "chunk:  95%|█████████▌| 168/176 [00:00<00:00, 210.62it/s, now=None]\u001b[A\n",
      "chunk:  32%|███▏      | 33/102 [00:36<01:17,  1.12s/it, now=None]  \u001b[A\n",
      "t:   0%|          | 0/239 [00:00<?, ?it/s, now=None]\u001b[A\n",
      "t:  10%|▉         | 23/239 [00:00<00:00, 229.26it/s, now=None]\u001b[A"
     ]
    },
    {
     "name": "stdout",
     "output_type": "stream",
     "text": [
      "MoviePy - Done.\n",
      "Moviepy - Building video extractTest/video/long/3.mp4.\n",
      "Moviepy - Writing video extractTest/video/long/3.mp4\n",
      "\n"
     ]
    },
    {
     "name": "stderr",
     "output_type": "stream",
     "text": [
      "\n",
      "t:  20%|█▉        | 47/239 [00:00<00:00, 230.30it/s, now=None]\u001b[A\n",
      "t:  25%|██▍       | 59/239 [00:00<00:01, 153.28it/s, now=None]\u001b[A\n",
      "t:  31%|███       | 74/239 [00:00<00:01, 150.98it/s, now=None]\u001b[A\n",
      "t:  36%|███▋      | 87/239 [00:00<00:01, 143.71it/s, now=None]\u001b[A\n",
      "t:  42%|████▏     | 101/239 [00:00<00:00, 140.95it/s, now=None]\u001b[A\n",
      "t:  48%|████▊     | 114/239 [00:00<00:00, 132.91it/s, now=None]\u001b[A\n",
      "t:  53%|█████▎    | 127/239 [00:00<00:00, 123.24it/s, now=None]\u001b[A\n",
      "t:  58%|█████▊    | 139/239 [00:01<00:00, 116.98it/s, now=None]\u001b[A\n",
      "t:  63%|██████▎   | 151/239 [00:01<00:00, 108.72it/s, now=None]\u001b[A\n",
      "t:  68%|██████▊   | 162/239 [00:01<00:00, 98.20it/s, now=None] \u001b[A\n",
      "t:  72%|███████▏  | 172/239 [00:01<00:00, 84.75it/s, now=None]\u001b[A\n",
      "t:  77%|███████▋  | 184/239 [00:01<00:00, 90.72it/s, now=None]\u001b[A\n",
      "t:  81%|████████  | 194/239 [00:01<00:00, 88.79it/s, now=None]\u001b[A\n",
      "t:  86%|████████▌ | 205/239 [00:01<00:00, 93.92it/s, now=None]\u001b[A\n",
      "t:  90%|████████▉ | 215/239 [00:01<00:00, 91.07it/s, now=None]\u001b[A\n",
      "t:  94%|█████████▍| 225/239 [00:01<00:00, 92.54it/s, now=None]\u001b[A\n",
      "t:  98%|█████████▊| 235/239 [00:02<00:00, 94.01it/s, now=None]\u001b[A\n",
      "chunk:  32%|███▏      | 33/102 [00:39<01:22,  1.20s/it, now=None]\n",
      "chunk:   0%|          | 0/81 [00:00<?, ?it/s, now=None]\u001b[A"
     ]
    },
    {
     "name": "stdout",
     "output_type": "stream",
     "text": [
      "Moviepy - Done !\n",
      "Moviepy - video ready extractTest/video/long/3.mp4\n",
      "MoviePy - Writing audio in %s\n"
     ]
    },
    {
     "name": "stderr",
     "output_type": "stream",
     "text": [
      "\n",
      "chunk:  47%|████▋     | 38/81 [00:00<00:00, 258.17it/s, now=None]\u001b[A\n",
      "chunk:  81%|████████▏ | 66/81 [00:00<00:00, 260.37it/s, now=None]\u001b[A\n",
      "chunk:  32%|███▏      | 33/102 [00:40<01:23,  1.21s/it, now=None]\u001b[A\n",
      "t:   0%|          | 0/110 [00:00<?, ?it/s, now=None]\u001b[A\n",
      "t:  18%|█▊        | 20/110 [00:00<00:00, 196.74it/s, now=None]\u001b[A"
     ]
    },
    {
     "name": "stdout",
     "output_type": "stream",
     "text": [
      "MoviePy - Done.\n",
      "Moviepy - Building video extractTest/video/long/9.mp4.\n",
      "Moviepy - Writing video extractTest/video/long/9.mp4\n",
      "\n"
     ]
    },
    {
     "name": "stderr",
     "output_type": "stream",
     "text": [
      "\n",
      "t:  37%|███▋      | 41/110 [00:00<00:00, 199.60it/s, now=None]\u001b[A\n",
      "t:  47%|████▋     | 52/110 [00:00<00:00, 130.01it/s, now=None]\u001b[A\n",
      "t:  56%|█████▋    | 62/110 [00:00<00:00, 106.35it/s, now=None]\u001b[A\n",
      "t:  65%|██████▍   | 71/110 [00:00<00:00, 96.02it/s, now=None] \u001b[A\n",
      "t:  74%|███████▎  | 81/110 [00:00<00:00, 96.48it/s, now=None]\u001b[A\n",
      "t:  82%|████████▏ | 90/110 [00:00<00:00, 90.94it/s, now=None]\u001b[A\n",
      "t:  93%|█████████▎| 102/110 [00:00<00:00, 94.88it/s, now=None]\u001b[A\n",
      "chunk:  32%|███▏      | 33/102 [00:41<01:26,  1.26s/it, now=None]\n",
      "chunk:   0%|          | 0/89 [00:00<?, ?it/s, now=None]\u001b[A\n",
      "chunk:  45%|████▍     | 40/89 [00:00<00:00, 245.07it/s, now=None]"
     ]
    },
    {
     "name": "stdout",
     "output_type": "stream",
     "text": [
      "Moviepy - Done !\n",
      "Moviepy - video ready extractTest/video/long/9.mp4\n",
      "MoviePy - Writing audio in %s\n"
     ]
    },
    {
     "name": "stderr",
     "output_type": "stream",
     "text": [
      "\u001b[A\n",
      "chunk:  67%|██████▋   | 60/89 [00:00<00:00, 226.53it/s, now=None]\u001b[A\n",
      "chunk:  93%|█████████▎| 83/89 [00:00<00:00, 227.37it/s, now=None]\u001b[A\n",
      "chunk:  32%|███▏      | 33/102 [00:42<01:27,  1.27s/it, now=None]\u001b[A\n",
      "t:   0%|          | 0/120 [00:00<?, ?it/s, now=None]\u001b[A\n",
      "t:  18%|█▊        | 22/120 [00:00<00:00, 215.17it/s, now=None]\u001b[A"
     ]
    },
    {
     "name": "stdout",
     "output_type": "stream",
     "text": [
      "MoviePy - Done.\n",
      "Moviepy - Building video extractTest/video/long/10.mp4.\n",
      "Moviepy - Writing video extractTest/video/long/10.mp4\n",
      "\n"
     ]
    },
    {
     "name": "stderr",
     "output_type": "stream",
     "text": [
      "\n",
      "t:  30%|███       | 36/120 [00:00<00:00, 184.27it/s, now=None]\u001b[A\n",
      "t:  40%|████      | 48/120 [00:00<00:00, 145.48it/s, now=None]\u001b[A\n",
      "t:  48%|████▊     | 57/120 [00:00<00:00, 96.51it/s, now=None] \u001b[A\n",
      "t:  55%|█████▌    | 66/120 [00:00<00:00, 93.03it/s, now=None]\u001b[A\n",
      "t:  63%|██████▎   | 76/120 [00:00<00:00, 93.14it/s, now=None]\u001b[A\n",
      "t:  72%|███████▏  | 86/120 [00:00<00:00, 93.99it/s, now=None]\u001b[A\n",
      "t:  79%|███████▉  | 95/120 [00:00<00:00, 91.73it/s, now=None]\u001b[A\n",
      "t:  87%|████████▋ | 104/120 [00:01<00:00, 80.16it/s, now=None]\u001b[A\n",
      "t:  94%|█████████▍| 113/120 [00:01<00:00, 76.90it/s, now=None]\u001b[A\n",
      "chunk:  32%|███▏      | 33/102 [00:43<01:31,  1.33s/it, now=None]\n",
      "chunk:   0%|          | 0/83 [00:00<?, ?it/s, now=None]\u001b[A"
     ]
    },
    {
     "name": "stdout",
     "output_type": "stream",
     "text": [
      "Moviepy - Done !\n",
      "Moviepy - video ready extractTest/video/long/10.mp4\n",
      "MoviePy - Writing audio in %s\n"
     ]
    },
    {
     "name": "stderr",
     "output_type": "stream",
     "text": [
      "\n",
      "chunk:  46%|████▌     | 38/83 [00:00<00:00, 261.43it/s, now=None]\u001b[A\n",
      "chunk:  75%|███████▍  | 62/83 [00:00<00:00, 249.94it/s, now=None]\u001b[A\n",
      "chunk:  32%|███▏      | 33/102 [00:44<01:32,  1.34s/it, now=None]\u001b[A\n",
      "t:   0%|          | 0/113 [00:00<?, ?it/s, now=None]\u001b[A\n",
      "t:  14%|█▍        | 16/113 [00:00<00:00, 159.43it/s, now=None]\u001b[A"
     ]
    },
    {
     "name": "stdout",
     "output_type": "stream",
     "text": [
      "MoviePy - Done.\n",
      "Moviepy - Building video extractTest/video/long/13.mp4.\n",
      "Moviepy - Writing video extractTest/video/long/13.mp4\n",
      "\n"
     ]
    },
    {
     "name": "stderr",
     "output_type": "stream",
     "text": [
      "\n",
      "t:  32%|███▏      | 36/113 [00:00<00:00, 168.52it/s, now=None]\u001b[A\n",
      "t:  42%|████▏     | 48/113 [00:00<00:00, 132.50it/s, now=None]\u001b[A\n",
      "t:  51%|█████▏    | 58/113 [00:00<00:00, 111.00it/s, now=None]\u001b[A\n",
      "t:  59%|█████▉    | 67/113 [00:00<00:00, 97.35it/s, now=None] \u001b[A\n",
      "t:  67%|██████▋   | 76/113 [00:00<00:00, 89.67it/s, now=None]\u001b[A\n",
      "t:  76%|███████▌  | 86/113 [00:00<00:00, 91.04it/s, now=None]\u001b[A\n",
      "t:  84%|████████▍ | 95/113 [00:00<00:00, 76.25it/s, now=None]\u001b[A\n",
      "t:  91%|█████████ | 103/113 [00:01<00:00, 76.29it/s, now=None]\u001b[A\n",
      "t:  98%|█████████▊| 111/113 [00:01<00:00, 73.75it/s, now=None]\u001b[A\n",
      "chunk:  32%|███▏      | 33/102 [00:45<01:35,  1.39s/it, now=None]\n",
      "chunk:   0%|          | 0/96 [00:00<?, ?it/s, now=None]\u001b[A\n",
      "chunk:  40%|███▉      | 38/96 [00:00<00:00, 249.37it/s, now=None]\u001b[A"
     ]
    },
    {
     "name": "stdout",
     "output_type": "stream",
     "text": [
      "Moviepy - Done !\n",
      "Moviepy - video ready extractTest/video/long/13.mp4\n",
      "MoviePy - Writing audio in %s\n"
     ]
    },
    {
     "name": "stderr",
     "output_type": "stream",
     "text": [
      "\n",
      "chunk:  61%|██████▏   | 59/96 [00:00<00:00, 235.92it/s, now=None]\u001b[A\n",
      "chunk:  81%|████████▏ | 78/96 [00:00<00:00, 213.01it/s, now=None]\u001b[A\n",
      "chunk:  32%|███▏      | 33/102 [00:46<01:37,  1.41s/it, now=None]\u001b[A\n",
      "t:   0%|          | 0/130 [00:00<?, ?it/s, now=None]\u001b[A\n",
      "t:  11%|█         | 14/130 [00:00<00:00, 136.46it/s, now=None]\u001b[A"
     ]
    },
    {
     "name": "stdout",
     "output_type": "stream",
     "text": [
      "MoviePy - Done.\n",
      "Moviepy - Building video extractTest/video/long/14.mp4.\n",
      "Moviepy - Writing video extractTest/video/long/14.mp4\n",
      "\n"
     ]
    },
    {
     "name": "stderr",
     "output_type": "stream",
     "text": [
      "\n",
      "t:  25%|██▌       | 33/130 [00:00<00:00, 147.83it/s, now=None]\u001b[A\n",
      "t:  37%|███▋      | 48/130 [00:00<00:00, 128.74it/s, now=None]\u001b[A\n",
      "t:  45%|████▍     | 58/130 [00:00<00:00, 117.10it/s, now=None]\u001b[A\n",
      "t:  52%|█████▏    | 68/130 [00:00<00:00, 105.41it/s, now=None]\u001b[A\n",
      "t:  59%|█████▉    | 77/130 [00:00<00:00, 87.45it/s, now=None] \u001b[A\n",
      "t:  66%|██████▌   | 86/130 [00:00<00:00, 78.15it/s, now=None]\u001b[A\n",
      "t:  73%|███████▎  | 95/130 [00:00<00:00, 80.55it/s, now=None]\u001b[A\n",
      "t:  79%|███████▉  | 103/130 [00:01<00:00, 77.99it/s, now=None]\u001b[A\n",
      "t:  85%|████████▌ | 111/130 [00:01<00:00, 78.43it/s, now=None]\u001b[A\n",
      "t:  92%|█████████▏| 119/130 [00:01<00:00, 77.08it/s, now=None]\u001b[A\n",
      "t:  98%|█████████▊| 127/130 [00:01<00:00, 75.73it/s, now=None]\u001b[A\n",
      "chunk:  32%|███▏      | 33/102 [00:48<01:41,  1.47s/it, now=None]\n",
      "chunk:   0%|          | 0/83 [00:00<?, ?it/s, now=None]\u001b[A"
     ]
    },
    {
     "name": "stdout",
     "output_type": "stream",
     "text": [
      "Moviepy - Done !\n",
      "Moviepy - video ready extractTest/video/long/14.mp4\n",
      "MoviePy - Writing audio in %s\n"
     ]
    },
    {
     "name": "stderr",
     "output_type": "stream",
     "text": [
      "\n",
      "chunk:  46%|████▌     | 38/83 [00:00<00:00, 210.42it/s, now=None]\u001b[A\n",
      "chunk:  70%|██████▉   | 58/83 [00:00<00:00, 203.32it/s, now=None]\u001b[A\n",
      "chunk:  93%|█████████▎| 77/83 [00:00<00:00, 198.42it/s, now=None]\u001b[A\n",
      "chunk:  32%|███▏      | 33/102 [00:49<01:42,  1.49s/it, now=None]\u001b[A\n",
      "t:   0%|          | 0/112 [00:00<?, ?it/s, now=None]\u001b[A\n",
      "t:  16%|█▌        | 18/112 [00:00<00:00, 173.73it/s, now=None]\u001b[A"
     ]
    },
    {
     "name": "stdout",
     "output_type": "stream",
     "text": [
      "MoviePy - Done.\n",
      "Moviepy - Building video extractTest/video/long/15.mp4.\n",
      "Moviepy - Writing video extractTest/video/long/15.mp4\n",
      "\n"
     ]
    },
    {
     "name": "stderr",
     "output_type": "stream",
     "text": [
      "\n",
      "t:  27%|██▋       | 30/112 [00:00<00:00, 152.71it/s, now=None]\u001b[A\n",
      "t:  41%|████      | 46/112 [00:00<00:00, 153.15it/s, now=None]\u001b[A\n",
      "t:  50%|█████     | 56/112 [00:00<00:00, 86.94it/s, now=None] \u001b[A\n",
      "t:  58%|█████▊    | 65/112 [00:00<00:00, 75.51it/s, now=None]\u001b[A\n",
      "t:  65%|██████▌   | 73/112 [00:00<00:00, 66.01it/s, now=None]\u001b[A\n",
      "t:  71%|███████▏  | 80/112 [00:01<00:00, 51.44it/s, now=None]\u001b[A\n",
      "t:  77%|███████▋  | 86/112 [00:01<00:00, 46.64it/s, now=None]\u001b[A\n",
      "t:  82%|████████▏ | 92/112 [00:01<00:00, 43.81it/s, now=None]\u001b[A\n",
      "t:  87%|████████▋ | 97/112 [00:01<00:00, 42.75it/s, now=None]\u001b[A\n",
      "t:  91%|█████████ | 102/112 [00:01<00:00, 43.63it/s, now=None]\u001b[A\n",
      "t:  97%|█████████▋| 109/112 [00:01<00:00, 47.92it/s, now=None]\u001b[A\n",
      "chunk:  32%|███▏      | 33/102 [00:51<01:47,  1.56s/it, now=None]\n",
      "chunk:   0%|          | 0/254 [00:00<?, ?it/s, now=None]\u001b[A"
     ]
    },
    {
     "name": "stdout",
     "output_type": "stream",
     "text": [
      "Moviepy - Done !\n",
      "Moviepy - video ready extractTest/video/long/15.mp4\n",
      "MoviePy - Writing audio in %s\n"
     ]
    },
    {
     "name": "stderr",
     "output_type": "stream",
     "text": [
      "\n",
      "chunk:  15%|█▍        | 38/254 [00:00<00:00, 218.60it/s, now=None]\u001b[A\n",
      "chunk:  23%|██▎       | 58/254 [00:00<00:00, 199.91it/s, now=None]\u001b[A\n",
      "chunk:  29%|██▉       | 74/254 [00:00<00:00, 180.12it/s, now=None]\u001b[A\n",
      "chunk:  35%|███▌      | 90/254 [00:00<00:00, 164.72it/s, now=None]\u001b[A\n",
      "chunk:  40%|████      | 102/254 [00:00<00:01, 141.70it/s, now=None]\u001b[A\n",
      "chunk:  49%|████▉     | 124/254 [00:00<00:00, 152.87it/s, now=None]\u001b[A\n",
      "chunk:  55%|█████▌    | 140/254 [00:00<00:00, 150.37it/s, now=None]\u001b[A\n",
      "chunk:  61%|██████▏   | 156/254 [00:00<00:00, 151.58it/s, now=None]\u001b[A\n",
      "chunk:  69%|██████▉   | 176/254 [00:01<00:00, 161.40it/s, now=None]\u001b[A\n",
      "chunk:  78%|███████▊  | 198/254 [00:01<00:00, 172.59it/s, now=None]\u001b[A\n",
      "chunk:  86%|████████▌ | 218/254 [00:01<00:00, 175.60it/s, now=None]\u001b[A\n",
      "chunk:  93%|█████████▎| 236/254 [00:01<00:00, 176.24it/s, now=None]\u001b[A\n",
      "chunk: 100%|██████████| 254/254 [00:01<00:00, 162.11it/s, now=None]\u001b[A\n",
      "chunk:  32%|███▏      | 33/102 [00:53<01:51,  1.61s/it, now=None]  \u001b[A\n",
      "t:   0%|          | 0/345 [00:00<?, ?it/s, now=None]\u001b[A\n",
      "t:   6%|▌         | 21/345 [00:00<00:01, 205.06it/s, now=None]\u001b[A"
     ]
    },
    {
     "name": "stdout",
     "output_type": "stream",
     "text": [
      "MoviePy - Done.\n",
      "Moviepy - Building video extractTest/video/long/16.mp4.\n",
      "Moviepy - Writing video extractTest/video/long/16.mp4\n",
      "\n"
     ]
    },
    {
     "name": "stderr",
     "output_type": "stream",
     "text": [
      "\n",
      "t:  13%|█▎        | 44/345 [00:00<00:01, 209.92it/s, now=None]\u001b[A\n",
      "t:  16%|█▌        | 55/345 [00:00<00:03, 96.18it/s, now=None] \u001b[A\n",
      "t:  19%|█▊        | 64/345 [00:00<00:03, 72.31it/s, now=None]\u001b[A\n",
      "t:  21%|██        | 72/345 [00:00<00:04, 58.93it/s, now=None]\u001b[A\n",
      "t:  23%|██▎       | 79/345 [00:01<00:05, 49.73it/s, now=None]\u001b[A\n",
      "t:  25%|██▍       | 85/345 [00:01<00:05, 49.49it/s, now=None]\u001b[A\n",
      "t:  26%|██▋       | 91/345 [00:01<00:05, 48.72it/s, now=None]\u001b[A\n",
      "t:  28%|██▊       | 97/345 [00:01<00:05, 48.63it/s, now=None]\u001b[A\n",
      "t:  30%|██▉       | 103/345 [00:01<00:05, 46.45it/s, now=None]\u001b[A\n",
      "t:  32%|███▏      | 109/345 [00:01<00:05, 45.66it/s, now=None]\u001b[A\n",
      "t:  33%|███▎      | 115/345 [00:01<00:04, 47.96it/s, now=None]\u001b[A\n",
      "t:  35%|███▍      | 120/345 [00:01<00:04, 45.51it/s, now=None]\u001b[A\n",
      "t:  36%|███▌      | 125/345 [00:02<00:04, 45.24it/s, now=None]\u001b[A\n",
      "t:  38%|███▊      | 132/345 [00:02<00:04, 46.18it/s, now=None]\u001b[A\n",
      "t:  40%|████      | 138/345 [00:02<00:04, 48.06it/s, now=None]\u001b[A\n",
      "t:  41%|████▏     | 143/345 [00:02<00:04, 47.08it/s, now=None]\u001b[A\n",
      "t:  43%|████▎     | 148/345 [00:02<00:04, 45.62it/s, now=None]\u001b[A\n",
      "t:  44%|████▍     | 153/345 [00:02<00:04, 46.66it/s, now=None]\u001b[A\n",
      "t:  46%|████▌     | 158/345 [00:02<00:04, 42.81it/s, now=None]\u001b[A\n",
      "t:  47%|████▋     | 163/345 [00:02<00:04, 44.36it/s, now=None]\u001b[A\n",
      "t:  49%|████▊     | 168/345 [00:03<00:04, 40.55it/s, now=None]\u001b[A\n",
      "t:  50%|█████     | 173/345 [00:03<00:04, 38.34it/s, now=None]\u001b[A\n",
      "t:  51%|█████▏    | 177/345 [00:03<00:04, 38.39it/s, now=None]\u001b[A\n",
      "t:  53%|█████▎    | 184/345 [00:03<00:03, 43.59it/s, now=None]\u001b[A\n",
      "t:  55%|█████▍    | 189/345 [00:03<00:04, 36.84it/s, now=None]\u001b[A\n",
      "t:  56%|█████▌    | 194/345 [00:03<00:03, 39.67it/s, now=None]\u001b[A\n",
      "t:  58%|█████▊    | 199/345 [00:03<00:03, 38.95it/s, now=None]\u001b[A\n",
      "t:  59%|█████▉    | 204/345 [00:03<00:03, 37.02it/s, now=None]\u001b[A\n",
      "t:  61%|██████    | 209/345 [00:04<00:03, 35.20it/s, now=None]\u001b[A\n",
      "t:  62%|██████▏   | 215/345 [00:04<00:03, 36.89it/s, now=None]\u001b[A\n",
      "t:  64%|██████▍   | 221/345 [00:04<00:03, 39.52it/s, now=None]\u001b[A\n",
      "t:  66%|██████▌   | 227/345 [00:04<00:02, 41.15it/s, now=None]\u001b[A\n",
      "t:  67%|██████▋   | 232/345 [00:04<00:03, 37.11it/s, now=None]\u001b[A\n",
      "t:  69%|██████▊   | 237/345 [00:04<00:02, 39.25it/s, now=None]\u001b[A\n",
      "t:  71%|███████   | 245/345 [00:04<00:02, 40.49it/s, now=None]\u001b[A\n",
      "t:  72%|███████▏  | 250/345 [00:05<00:02, 33.41it/s, now=None]\u001b[A\n",
      "t:  74%|███████▍  | 257/345 [00:05<00:02, 37.64it/s, now=None]\u001b[A\n",
      "t:  76%|███████▌  | 263/345 [00:05<00:01, 41.72it/s, now=None]\u001b[A\n",
      "t:  78%|███████▊  | 268/345 [00:05<00:01, 40.36it/s, now=None]\u001b[A\n",
      "t:  80%|████████  | 276/345 [00:05<00:01, 40.59it/s, now=None]\u001b[A\n",
      "t:  82%|████████▏ | 283/345 [00:05<00:01, 46.03it/s, now=None]\u001b[A\n",
      "t:  83%|████████▎ | 288/345 [00:05<00:01, 45.73it/s, now=None]\u001b[A\n",
      "t:  85%|████████▍ | 293/345 [00:06<00:01, 44.40it/s, now=None]\u001b[A\n",
      "t:  86%|████████▋ | 298/345 [00:06<00:01, 45.74it/s, now=None]\u001b[A\n",
      "t:  88%|████████▊ | 305/345 [00:06<00:00, 50.96it/s, now=None]\u001b[A\n",
      "t:  90%|█████████ | 311/345 [00:06<00:00, 53.18it/s, now=None]\u001b[A\n",
      "t:  92%|█████████▏| 318/345 [00:06<00:00, 56.58it/s, now=None]\u001b[A\n",
      "t:  94%|█████████▍| 324/345 [00:06<00:00, 56.74it/s, now=None]\u001b[A\n",
      "t:  96%|█████████▌| 330/345 [00:06<00:00, 56.98it/s, now=None]\u001b[A\n",
      "t:  97%|█████████▋| 336/345 [00:06<00:00, 56.54it/s, now=None]\u001b[A\n",
      "t:  99%|█████████▉| 342/345 [00:06<00:00, 56.97it/s, now=None]\u001b[A\n",
      "chunk:  32%|███▏      | 33/102 [01:01<02:07,  1.85s/it, now=None]\n",
      "chunk:   0%|          | 0/75 [00:00<?, ?it/s, now=None]\u001b[A"
     ]
    },
    {
     "name": "stdout",
     "output_type": "stream",
     "text": [
      "Moviepy - Done !\n",
      "Moviepy - video ready extractTest/video/long/16.mp4\n",
      "MoviePy - Writing audio in %s\n"
     ]
    },
    {
     "name": "stderr",
     "output_type": "stream",
     "text": [
      "\n",
      "chunk:  53%|█████▎    | 40/75 [00:00<00:00, 170.81it/s, now=None]\u001b[A\n",
      "chunk:  75%|███████▍  | 56/75 [00:00<00:00, 161.61it/s, now=None]\u001b[A\n",
      "chunk:  96%|█████████▌| 72/75 [00:00<00:00, 154.53it/s, now=None]\u001b[A\n",
      "chunk:  32%|███▏      | 33/102 [01:01<02:08,  1.87s/it, now=None]\u001b[A\n",
      "t:   0%|          | 0/102 [00:00<?, ?it/s, now=None]\u001b[A\n",
      "t:  16%|█▌        | 16/102 [00:00<00:00, 157.96it/s, now=None]\u001b[A"
     ]
    },
    {
     "name": "stdout",
     "output_type": "stream",
     "text": [
      "MoviePy - Done.\n",
      "Moviepy - Building video extractTest/video/long/17.mp4.\n",
      "Moviepy - Writing video extractTest/video/long/17.mp4\n",
      "\n"
     ]
    },
    {
     "name": "stderr",
     "output_type": "stream",
     "text": [
      "\n",
      "t:  31%|███▏      | 32/102 [00:00<00:00, 156.78it/s, now=None]\u001b[A\n",
      "t:  47%|████▋     | 48/102 [00:00<00:00, 125.52it/s, now=None]\u001b[A\n",
      "t:  56%|█████▌    | 57/102 [00:00<00:00, 99.11it/s, now=None] \u001b[A\n",
      "t:  64%|██████▎   | 65/102 [00:00<00:00, 79.36it/s, now=None]\u001b[A\n",
      "t:  73%|███████▎  | 74/102 [00:00<00:00, 81.86it/s, now=None]\u001b[A\n",
      "t:  80%|████████  | 82/102 [00:00<00:00, 80.88it/s, now=None]\u001b[A\n",
      "t:  88%|████████▊ | 90/102 [00:01<00:00, 69.84it/s, now=None]\u001b[A\n",
      "t:  96%|█████████▌| 98/102 [00:01<00:00, 72.52it/s, now=None]\u001b[A\n",
      "chunk:  32%|███▏      | 33/102 [01:03<02:13,  1.93s/it, now=None]\n",
      "chunk:   0%|          | 0/85 [00:00<?, ?it/s, now=None]\u001b[A"
     ]
    },
    {
     "name": "stdout",
     "output_type": "stream",
     "text": [
      "Moviepy - Done !\n",
      "Moviepy - video ready extractTest/video/long/17.mp4\n",
      "MoviePy - Writing audio in %s\n"
     ]
    },
    {
     "name": "stderr",
     "output_type": "stream",
     "text": [
      "\n",
      "chunk:  45%|████▍     | 38/85 [00:00<00:00, 215.63it/s, now=None]\u001b[A\n",
      "chunk:  68%|██████▊   | 58/85 [00:00<00:00, 206.71it/s, now=None]\u001b[A\n",
      "chunk:  92%|█████████▏| 78/85 [00:00<00:00, 200.76it/s, now=None]\u001b[A\n",
      "chunk:  32%|███▏      | 33/102 [01:04<02:14,  1.95s/it, now=None]\u001b[A\n",
      "t:   0%|          | 0/116 [00:00<?, ?it/s, now=None]\u001b[A\n",
      "t:  15%|█▍        | 17/116 [00:00<00:00, 169.56it/s, now=None]\u001b[A"
     ]
    },
    {
     "name": "stdout",
     "output_type": "stream",
     "text": [
      "MoviePy - Done.\n",
      "Moviepy - Building video extractTest/video/long/20.mp4.\n",
      "Moviepy - Writing video extractTest/video/long/20.mp4\n",
      "\n"
     ]
    },
    {
     "name": "stderr",
     "output_type": "stream",
     "text": [
      "\n",
      "t:  32%|███▏      | 37/116 [00:00<00:00, 176.50it/s, now=None]\u001b[A\n",
      "t:  41%|████▏     | 48/116 [00:00<00:00, 130.79it/s, now=None]\u001b[A\n",
      "t:  50%|█████     | 58/116 [00:00<00:00, 102.78it/s, now=None]\u001b[A\n",
      "t:  58%|█████▊    | 67/116 [00:00<00:00, 87.74it/s, now=None] \u001b[A\n",
      "t:  66%|██████▌   | 76/116 [00:00<00:00, 87.69it/s, now=None]\u001b[A\n",
      "t:  73%|███████▎  | 85/116 [00:00<00:00, 79.08it/s, now=None]\u001b[A\n",
      "t:  80%|████████  | 93/116 [00:00<00:00, 73.21it/s, now=None]\u001b[A\n",
      "t:  87%|████████▋ | 101/116 [00:01<00:00, 72.58it/s, now=None]\u001b[A\n",
      "t:  94%|█████████▍| 109/116 [00:01<00:00, 73.46it/s, now=None]\u001b[A\n",
      "chunk:  32%|███▏      | 33/102 [01:05<02:17,  2.00s/it, now=None]\n",
      "chunk:   0%|          | 0/85 [00:00<?, ?it/s, now=None]\u001b[A"
     ]
    },
    {
     "name": "stdout",
     "output_type": "stream",
     "text": [
      "Moviepy - Done !\n",
      "Moviepy - video ready extractTest/video/long/20.mp4\n",
      "MoviePy - Writing audio in %s\n"
     ]
    },
    {
     "name": "stderr",
     "output_type": "stream",
     "text": [
      "\n",
      "chunk:  45%|████▍     | 38/85 [00:00<00:00, 214.83it/s, now=None]\u001b[A\n",
      "chunk:  68%|██████▊   | 58/85 [00:00<00:00, 202.50it/s, now=None]\u001b[A\n",
      "chunk:  96%|█████████▋| 82/85 [00:00<00:00, 205.63it/s, now=None]\u001b[A\n",
      "chunk:  32%|███▏      | 33/102 [01:06<02:19,  2.02s/it, now=None]\u001b[A\n",
      "t:   0%|          | 0/115 [00:00<?, ?it/s, now=None]\u001b[A\n",
      "t:  18%|█▊        | 21/115 [00:00<00:00, 204.03it/s, now=None]\u001b[A"
     ]
    },
    {
     "name": "stdout",
     "output_type": "stream",
     "text": [
      "MoviePy - Done.\n",
      "Moviepy - Building video extractTest/video/long/21.mp4.\n",
      "Moviepy - Writing video extractTest/video/long/21.mp4\n",
      "\n"
     ]
    },
    {
     "name": "stderr",
     "output_type": "stream",
     "text": [
      "\n",
      "t:  37%|███▋      | 42/115 [00:00<00:00, 205.34it/s, now=None]\u001b[A\n",
      "t:  46%|████▌     | 53/115 [00:00<00:00, 128.37it/s, now=None]\u001b[A\n",
      "t:  55%|█████▍    | 63/115 [00:00<00:00, 106.20it/s, now=None]\u001b[A\n",
      "t:  63%|██████▎   | 72/115 [00:00<00:00, 93.07it/s, now=None] \u001b[A\n",
      "t:  70%|███████   | 81/115 [00:00<00:00, 78.12it/s, now=None]\u001b[A\n",
      "t:  77%|███████▋  | 89/115 [00:00<00:00, 76.38it/s, now=None]\u001b[A\n",
      "t:  84%|████████▍ | 97/115 [00:00<00:00, 75.76it/s, now=None]\u001b[A\n",
      "t:  91%|█████████▏| 105/115 [00:01<00:00, 73.61it/s, now=None]\u001b[A\n",
      "t:  98%|█████████▊| 113/115 [00:01<00:00, 73.91it/s, now=None]\u001b[A\n",
      "chunk:  32%|███▏      | 33/102 [01:08<02:22,  2.07s/it, now=None]\n",
      "chunk:   0%|          | 0/74 [00:00<?, ?it/s, now=None]\u001b[A"
     ]
    },
    {
     "name": "stdout",
     "output_type": "stream",
     "text": [
      "Moviepy - Done !\n",
      "Moviepy - video ready extractTest/video/long/21.mp4\n",
      "MoviePy - Writing audio in %s\n"
     ]
    },
    {
     "name": "stderr",
     "output_type": "stream",
     "text": [
      "\n",
      "chunk:  51%|█████▏    | 38/74 [00:00<00:00, 221.56it/s, now=None]\u001b[A\n",
      "chunk:  73%|███████▎  | 54/74 [00:00<00:00, 191.04it/s, now=None]\u001b[A\n",
      "chunk:  32%|███▏      | 33/102 [01:08<02:23,  2.08s/it, now=None]\u001b[A\n",
      "t:   0%|          | 0/100 [00:00<?, ?it/s, now=None]\u001b[A\n",
      "t:  13%|█▎        | 13/100 [00:00<00:00, 124.93it/s, now=None]\u001b[A"
     ]
    },
    {
     "name": "stdout",
     "output_type": "stream",
     "text": [
      "MoviePy - Done.\n",
      "Moviepy - Building video extractTest/video/long/22.mp4.\n",
      "Moviepy - Writing video extractTest/video/long/22.mp4\n",
      "\n"
     ]
    },
    {
     "name": "stderr",
     "output_type": "stream",
     "text": [
      "\n",
      "t:  26%|██▌       | 26/100 [00:00<00:00, 124.90it/s, now=None]\u001b[A\n",
      "t:  44%|████▍     | 44/100 [00:00<00:00, 136.77it/s, now=None]\u001b[A\n",
      "t:  54%|█████▍    | 54/100 [00:00<00:00, 102.17it/s, now=None]\u001b[A\n",
      "t:  63%|██████▎   | 63/100 [00:00<00:00, 79.26it/s, now=None] \u001b[A\n",
      "t:  71%|███████   | 71/100 [00:00<00:00, 77.68it/s, now=None]\u001b[A\n",
      "t:  79%|███████▉  | 79/100 [00:00<00:00, 76.64it/s, now=None]\u001b[A\n",
      "t:  87%|████████▋ | 87/100 [00:00<00:00, 70.86it/s, now=None]\u001b[A\n",
      "t:  95%|█████████▌| 95/100 [00:01<00:00, 70.94it/s, now=None]\u001b[A\n",
      "chunk:  32%|███▏      | 33/102 [01:10<02:27,  2.13s/it, now=None]\n",
      "chunk:   0%|          | 0/92 [00:00<?, ?it/s, now=None]\u001b[A\n",
      "chunk:  41%|████▏     | 38/92 [00:00<00:00, 238.86it/s, now=None]\u001b[A"
     ]
    },
    {
     "name": "stdout",
     "output_type": "stream",
     "text": [
      "Moviepy - Done !\n",
      "Moviepy - video ready extractTest/video/long/22.mp4\n",
      "MoviePy - Writing audio in %s\n"
     ]
    },
    {
     "name": "stderr",
     "output_type": "stream",
     "text": [
      "\n",
      "chunk:  64%|██████▍   | 59/92 [00:00<00:00, 229.18it/s, now=None]\u001b[A\n",
      "chunk:  85%|████████▍ | 78/92 [00:00<00:00, 215.62it/s, now=None]\u001b[A\n",
      "chunk:  32%|███▏      | 33/102 [01:10<02:28,  2.15s/it, now=None]\u001b[A\n",
      "t:   0%|          | 0/125 [00:00<?, ?it/s, now=None]\u001b[A\n",
      "t:  17%|█▋        | 21/125 [00:00<00:00, 208.94it/s, now=None]\u001b[A"
     ]
    },
    {
     "name": "stdout",
     "output_type": "stream",
     "text": [
      "MoviePy - Done.\n",
      "Moviepy - Building video extractTest/video/long/23.mp4.\n",
      "Moviepy - Writing video extractTest/video/long/23.mp4\n",
      "\n"
     ]
    },
    {
     "name": "stderr",
     "output_type": "stream",
     "text": [
      "\n",
      "t:  32%|███▏      | 40/125 [00:00<00:00, 201.01it/s, now=None]\u001b[A\n",
      "t:  40%|████      | 50/125 [00:00<00:00, 80.40it/s, now=None] \u001b[A\n",
      "t:  46%|████▋     | 58/125 [00:00<00:00, 74.19it/s, now=None]\u001b[A\n",
      "t:  53%|█████▎    | 66/125 [00:00<00:00, 67.91it/s, now=None]\u001b[A\n",
      "t:  58%|█████▊    | 73/125 [00:00<00:00, 66.08it/s, now=None]\u001b[A\n",
      "t:  64%|██████▍   | 80/125 [00:01<00:00, 56.81it/s, now=None]\u001b[A\n",
      "t:  70%|██████▉   | 87/125 [00:01<00:00, 59.31it/s, now=None]\u001b[A\n",
      "t:  76%|███████▌  | 95/125 [00:01<00:00, 63.88it/s, now=None]\u001b[A\n",
      "t:  82%|████████▏ | 102/125 [00:01<00:00, 61.59it/s, now=None]\u001b[A\n",
      "t:  89%|████████▉ | 111/125 [00:01<00:00, 65.34it/s, now=None]\u001b[A\n",
      "t:  94%|█████████▍| 118/125 [00:01<00:00, 56.44it/s, now=None]\u001b[A\n",
      "chunk:  32%|███▏      | 33/102 [01:13<02:33,  2.22s/it, now=None]"
     ]
    },
    {
     "name": "stdout",
     "output_type": "stream",
     "text": [
      "Moviepy - Done !\n",
      "Moviepy - video ready extractTest/video/long/23.mp4\n",
      "MoviePy - Writing audio in %s\n"
     ]
    },
    {
     "name": "stderr",
     "output_type": "stream",
     "text": [
      "\n",
      "chunk:   0%|          | 0/139 [00:00<?, ?it/s, now=None]\u001b[A\n",
      "chunk:  27%|██▋       | 38/139 [00:00<00:00, 230.73it/s, now=None]\u001b[A\n",
      "chunk:  45%|████▍     | 62/139 [00:00<00:00, 224.91it/s, now=None]\u001b[A\n",
      "chunk:  62%|██████▏   | 86/139 [00:00<00:00, 219.68it/s, now=None]\u001b[A\n",
      "chunk:  76%|███████▋  | 106/139 [00:00<00:00, 210.13it/s, now=None]\u001b[A\n",
      "chunk:  92%|█████████▏| 128/139 [00:00<00:00, 211.72it/s, now=None]\u001b[A\n",
      "chunk:  32%|███▏      | 33/102 [01:14<02:34,  2.24s/it, now=None]  \u001b[A\n",
      "t:   0%|          | 0/189 [00:00<?, ?it/s, now=None]\u001b[A\n",
      "t:  10%|▉         | 18/189 [00:00<00:00, 175.77it/s, now=None]\u001b[A"
     ]
    },
    {
     "name": "stdout",
     "output_type": "stream",
     "text": [
      "MoviePy - Done.\n",
      "Moviepy - Building video extractTest/video/long/27.mp4.\n",
      "Moviepy - Writing video extractTest/video/long/27.mp4\n",
      "\n"
     ]
    },
    {
     "name": "stderr",
     "output_type": "stream",
     "text": [
      "\n",
      "t:  13%|█▎        | 24/189 [00:00<00:01, 107.72it/s, now=None]\u001b[A\n",
      "t:  23%|██▎       | 44/189 [00:00<00:01, 124.45it/s, now=None]\u001b[A\n",
      "t:  29%|██▊       | 54/189 [00:00<00:01, 91.44it/s, now=None] \u001b[A\n",
      "t:  33%|███▎      | 63/189 [00:00<00:01, 81.44it/s, now=None]\u001b[A\n",
      "t:  38%|███▊      | 71/189 [00:00<00:01, 79.63it/s, now=None]\u001b[A\n",
      "t:  43%|████▎     | 81/189 [00:00<00:01, 81.80it/s, now=None]\u001b[A\n",
      "t:  49%|████▉     | 93/189 [00:00<00:01, 87.40it/s, now=None]\u001b[A\n",
      "t:  55%|█████▌    | 104/189 [00:01<00:00, 91.70it/s, now=None]\u001b[A\n",
      "t:  60%|██████    | 114/189 [00:01<00:00, 89.68it/s, now=None]\u001b[A\n",
      "t:  66%|██████▌   | 124/189 [00:01<00:00, 90.25it/s, now=None]\u001b[A\n",
      "t:  71%|███████   | 134/189 [00:01<00:00, 89.82it/s, now=None]\u001b[A\n",
      "t:  77%|███████▋  | 146/189 [00:01<00:00, 95.60it/s, now=None]\u001b[A\n",
      "t:  84%|████████▎ | 158/189 [00:01<00:00, 97.95it/s, now=None]\u001b[A\n",
      "t:  89%|████████▉ | 169/189 [00:01<00:00, 101.10it/s, now=None]\u001b[A\n",
      "t:  96%|█████████▌| 181/189 [00:01<00:00, 102.46it/s, now=None]\u001b[A\n",
      "chunk:  32%|███▏      | 33/102 [01:16<02:39,  2.31s/it, now=None]A"
     ]
    },
    {
     "name": "stdout",
     "output_type": "stream",
     "text": [
      "Moviepy - Done !\n",
      "Moviepy - video ready extractTest/video/long/27.mp4\n"
     ]
    },
    {
     "name": "stderr",
     "output_type": "stream",
     "text": [
      "chunk:  32%|███▏      | 33/102 [01:16<02:40,  2.32s/it, now=None]\n",
      "chunk:   0%|          | 0/233 [00:00<?, ?it/s, now=None]\u001b[A\n",
      "chunk:  16%|█▋        | 38/233 [00:00<00:00, 242.33it/s, now=None]\u001b[A"
     ]
    },
    {
     "name": "stdout",
     "output_type": "stream",
     "text": [
      "MoviePy - Writing audio in %s\n"
     ]
    },
    {
     "name": "stderr",
     "output_type": "stream",
     "text": [
      "\n",
      "chunk:  27%|██▋       | 62/233 [00:00<00:00, 233.13it/s, now=None]\u001b[A\n",
      "chunk:  37%|███▋      | 86/233 [00:00<00:00, 227.96it/s, now=None]\u001b[A\n",
      "chunk:  47%|████▋     | 110/233 [00:00<00:00, 225.98it/s, now=None]\u001b[A\n",
      "chunk:  57%|█████▋    | 132/233 [00:00<00:00, 219.72it/s, now=None]\u001b[A\n",
      "chunk:  64%|██████▍   | 150/233 [00:00<00:00, 202.25it/s, now=None]\u001b[A\n",
      "chunk:  72%|███████▏  | 168/233 [00:00<00:00, 188.14it/s, now=None]\u001b[A\n",
      "chunk:  81%|████████  | 188/233 [00:00<00:00, 187.92it/s, now=None]\u001b[A\n",
      "chunk:  90%|█████████ | 210/233 [00:01<00:00, 191.62it/s, now=None]\u001b[A\n",
      "chunk:  32%|███▏      | 33/102 [01:17<02:42,  2.36s/it, now=None]  \u001b[A\n",
      "t:   0%|          | 0/317 [00:00<?, ?it/s, now=None]\u001b[A\n",
      "t:   8%|▊         | 24/317 [00:00<00:01, 231.94it/s, now=None]\u001b[A"
     ]
    },
    {
     "name": "stdout",
     "output_type": "stream",
     "text": [
      "MoviePy - Done.\n",
      "Moviepy - Building video extractTest/video/long/29.mp4.\n",
      "Moviepy - Writing video extractTest/video/long/29.mp4\n",
      "\n"
     ]
    },
    {
     "name": "stderr",
     "output_type": "stream",
     "text": [
      "\n",
      "t:  15%|█▌        | 48/317 [00:00<00:01, 193.98it/s, now=None]\u001b[A\n",
      "t:  18%|█▊        | 58/317 [00:00<00:02, 129.30it/s, now=None]\u001b[A\n",
      "t:  21%|██        | 67/317 [00:00<00:02, 109.99it/s, now=None]\u001b[A\n",
      "t:  24%|██▍       | 76/317 [00:00<00:02, 95.01it/s, now=None] \u001b[A\n",
      "t:  27%|██▋       | 85/317 [00:00<00:02, 83.72it/s, now=None]\u001b[A\n",
      "t:  30%|██▉       | 95/317 [00:00<00:02, 87.82it/s, now=None]\u001b[A\n",
      "t:  33%|███▎      | 105/317 [00:00<00:02, 88.51it/s, now=None]\u001b[A\n",
      "t:  36%|███▌      | 114/317 [00:01<00:02, 88.67it/s, now=None]\u001b[A\n",
      "t:  39%|███▉      | 125/317 [00:01<00:02, 93.57it/s, now=None]\u001b[A\n",
      "t:  43%|████▎     | 135/317 [00:01<00:01, 95.40it/s, now=None]\u001b[A\n",
      "t:  46%|████▌     | 145/317 [00:01<00:02, 85.28it/s, now=None]\u001b[A\n",
      "t:  49%|████▊     | 154/317 [00:01<00:01, 84.74it/s, now=None]\u001b[A\n",
      "t:  51%|█████▏    | 163/317 [00:01<00:01, 81.13it/s, now=None]\u001b[A\n",
      "t:  54%|█████▍    | 172/317 [00:01<00:01, 83.19it/s, now=None]\u001b[A\n",
      "t:  57%|█████▋    | 181/317 [00:01<00:01, 84.82it/s, now=None]\u001b[A\n",
      "t:  61%|██████    | 193/317 [00:02<00:01, 88.48it/s, now=None]\u001b[A\n",
      "t:  64%|██████▎   | 202/317 [00:02<00:01, 87.14it/s, now=None]\u001b[A\n",
      "t:  67%|██████▋   | 211/317 [00:02<00:01, 86.45it/s, now=None]\u001b[A\n",
      "t:  70%|██████▉   | 221/317 [00:02<00:01, 68.54it/s, now=None]\u001b[A\n",
      "t:  72%|███████▏  | 229/317 [00:02<00:01, 68.41it/s, now=None]\u001b[A\n",
      "t:  75%|███████▌  | 238/317 [00:02<00:01, 73.50it/s, now=None]\u001b[A\n",
      "t:  79%|███████▊  | 249/317 [00:02<00:00, 77.42it/s, now=None]\u001b[A\n",
      "t:  81%|████████▏ | 258/317 [00:02<00:00, 80.80it/s, now=None]\u001b[A\n",
      "t:  84%|████████▍ | 267/317 [00:02<00:00, 78.24it/s, now=None]\u001b[A\n",
      "t:  87%|████████▋ | 277/317 [00:03<00:00, 80.75it/s, now=None]\u001b[A\n",
      "t:  91%|█████████ | 289/317 [00:03<00:00, 84.88it/s, now=None]\u001b[A\n",
      "t:  94%|█████████▍| 298/317 [00:03<00:00, 80.80it/s, now=None]\u001b[A\n",
      "t:  98%|█████████▊| 310/317 [00:03<00:00, 88.66it/s, now=None]\u001b[A\n",
      "chunk:  32%|███▏      | 33/102 [01:21<02:51,  2.48s/it, now=None]"
     ]
    },
    {
     "name": "stdout",
     "output_type": "stream",
     "text": [
      "Moviepy - Done !\n",
      "Moviepy - video ready extractTest/video/long/29.mp4\n"
     ]
    },
    {
     "name": "stderr",
     "output_type": "stream",
     "text": [
      "chunk:  32%|███▏      | 33/102 [01:22<02:51,  2.49s/it, now=None]\n",
      "chunk:   0%|          | 0/95 [00:00<?, ?it/s, now=None]\u001b[A\n",
      "chunk:  40%|████      | 38/95 [00:00<00:00, 218.69it/s, now=None]\u001b[A"
     ]
    },
    {
     "name": "stdout",
     "output_type": "stream",
     "text": [
      "MoviePy - Writing audio in %s\n"
     ]
    },
    {
     "name": "stderr",
     "output_type": "stream",
     "text": [
      "\n",
      "chunk:  61%|██████    | 58/95 [00:00<00:00, 206.08it/s, now=None]\u001b[A\n",
      "chunk:  82%|████████▏ | 78/95 [00:00<00:00, 199.34it/s, now=None]\u001b[A\n",
      "chunk:  32%|███▏      | 33/102 [01:22<02:52,  2.51s/it, now=None]\u001b[A\n",
      "t:   0%|          | 0/128 [00:00<?, ?it/s, now=None]\u001b[A\n",
      "t:  15%|█▍        | 19/128 [00:00<00:00, 183.99it/s, now=None]\u001b[A"
     ]
    },
    {
     "name": "stdout",
     "output_type": "stream",
     "text": [
      "MoviePy - Done.\n",
      "Moviepy - Building video extractTest/video/long/31.mp4.\n",
      "Moviepy - Writing video extractTest/video/long/31.mp4\n",
      "\n"
     ]
    },
    {
     "name": "stderr",
     "output_type": "stream",
     "text": [
      "\n",
      "t:  27%|██▋       | 35/128 [00:00<00:00, 174.56it/s, now=None]\u001b[A\n",
      "t:  38%|███▊      | 48/128 [00:00<00:00, 150.76it/s, now=None]\u001b[A\n",
      "t:  45%|████▌     | 58/128 [00:00<00:00, 109.41it/s, now=None]\u001b[A\n",
      "t:  52%|█████▏    | 67/128 [00:00<00:00, 82.23it/s, now=None] \u001b[A\n",
      "t:  59%|█████▊    | 75/128 [00:00<00:00, 64.19it/s, now=None]\u001b[A\n",
      "t:  64%|██████▍   | 82/128 [00:00<00:00, 59.89it/s, now=None]\u001b[A\n",
      "t:  70%|███████   | 90/128 [00:01<00:00, 61.52it/s, now=None]\u001b[A\n",
      "t:  77%|███████▋  | 98/128 [00:01<00:00, 65.70it/s, now=None]\u001b[A\n",
      "t:  83%|████████▎ | 106/128 [00:01<00:00, 68.75it/s, now=None]\u001b[A\n",
      "t:  89%|████████▉ | 114/128 [00:01<00:00, 66.92it/s, now=None]\u001b[A\n",
      "t:  95%|█████████▌| 122/128 [00:01<00:00, 70.13it/s, now=None]\u001b[A\n",
      "chunk:  32%|███▏      | 33/102 [01:24<02:57,  2.57s/it, now=None]\n",
      "chunk:   0%|          | 0/110 [00:00<?, ?it/s, now=None]\u001b[A"
     ]
    },
    {
     "name": "stdout",
     "output_type": "stream",
     "text": [
      "Moviepy - Done !\n",
      "Moviepy - video ready extractTest/video/long/31.mp4\n",
      "MoviePy - Writing audio in %s\n"
     ]
    },
    {
     "name": "stderr",
     "output_type": "stream",
     "text": [
      "\n",
      "chunk:  35%|███▍      | 38/110 [00:00<00:00, 198.83it/s, now=None]\u001b[A\n",
      "chunk:  45%|████▌     | 50/110 [00:00<00:00, 158.55it/s, now=None]\u001b[A\n",
      "chunk:  64%|██████▎   | 70/110 [00:00<00:00, 165.33it/s, now=None]\u001b[A\n",
      "chunk:  82%|████████▏ | 90/110 [00:00<00:00, 168.67it/s, now=None]\u001b[A\n",
      "chunk:  32%|███▏      | 33/102 [01:25<02:59,  2.60s/it, now=None] \u001b[A\n",
      "t:   0%|          | 0/150 [00:00<?, ?it/s, now=None]\u001b[A\n",
      "t:  17%|█▋        | 25/150 [00:00<00:00, 240.53it/s, now=None]\u001b[A"
     ]
    },
    {
     "name": "stdout",
     "output_type": "stream",
     "text": [
      "MoviePy - Done.\n",
      "Moviepy - Building video extractTest/video/long/38.mp4.\n",
      "Moviepy - Writing video extractTest/video/long/38.mp4\n",
      "\n"
     ]
    },
    {
     "name": "stderr",
     "output_type": "stream",
     "text": [
      "\n",
      "t:  31%|███       | 46/150 [00:00<00:00, 228.01it/s, now=None]\u001b[A\n",
      "t:  39%|███▊      | 58/150 [00:00<00:00, 144.42it/s, now=None]\u001b[A\n",
      "t:  46%|████▌     | 69/150 [00:00<00:00, 120.77it/s, now=None]\u001b[A\n",
      "t:  53%|█████▎    | 79/150 [00:00<00:00, 110.27it/s, now=None]\u001b[A\n",
      "t:  59%|█████▉    | 89/150 [00:00<00:00, 103.60it/s, now=None]\u001b[A\n",
      "t:  68%|██████▊   | 102/150 [00:00<00:00, 109.27it/s, now=None]\u001b[A\n",
      "t:  76%|███████▌  | 114/150 [00:00<00:00, 111.90it/s, now=None]\u001b[A\n",
      "t:  83%|████████▎ | 125/150 [00:01<00:00, 109.40it/s, now=None]\u001b[A\n",
      "t:  91%|█████████▏| 137/150 [00:01<00:00, 104.86it/s, now=None]\u001b[A\n",
      "t:  99%|█████████▉| 149/150 [00:01<00:00, 108.39it/s, now=None]\u001b[A\n",
      "chunk:  32%|███▏      | 33/102 [01:27<03:02,  2.64s/it, now=None]A"
     ]
    },
    {
     "name": "stdout",
     "output_type": "stream",
     "text": [
      "Moviepy - Done !\n",
      "Moviepy - video ready extractTest/video/long/38.mp4\n"
     ]
    },
    {
     "name": "stderr",
     "output_type": "stream",
     "text": [
      "chunk:  32%|███▏      | 33/102 [01:27<03:02,  2.65s/it, now=None]\n",
      "chunk:   0%|          | 0/102 [00:00<?, ?it/s, now=None]\u001b[A\n",
      "chunk:  37%|███▋      | 38/102 [00:00<00:00, 301.83it/s, now=None]\u001b[A"
     ]
    },
    {
     "name": "stdout",
     "output_type": "stream",
     "text": [
      "MoviePy - Writing audio in %s\n"
     ]
    },
    {
     "name": "stderr",
     "output_type": "stream",
     "text": [
      "\n",
      "chunk:  65%|██████▍   | 66/102 [00:00<00:00, 284.31it/s, now=None]\u001b[A\n",
      "chunk:  88%|████████▊ | 90/102 [00:00<00:00, 261.75it/s, now=None]\u001b[A\n",
      "chunk:  32%|███▏      | 33/102 [01:27<03:03,  2.67s/it, now=None] \u001b[A\n",
      "t:   0%|          | 0/138 [00:00<?, ?it/s, now=None]\u001b[A\n",
      "t:  14%|█▍        | 20/138 [00:00<00:00, 196.74it/s, now=None]\u001b[A"
     ]
    },
    {
     "name": "stdout",
     "output_type": "stream",
     "text": [
      "MoviePy - Done.\n",
      "Moviepy - Building video extractTest/video/long/41.mp4.\n",
      "Moviepy - Writing video extractTest/video/long/41.mp4\n",
      "\n"
     ]
    },
    {
     "name": "stderr",
     "output_type": "stream",
     "text": [
      "\n",
      "t:  27%|██▋       | 37/138 [00:00<00:00, 187.45it/s, now=None]\u001b[A\n",
      "t:  34%|███▍      | 47/138 [00:00<00:00, 143.08it/s, now=None]\u001b[A\n",
      "t:  41%|████▏     | 57/138 [00:00<00:00, 101.22it/s, now=None]\u001b[A\n",
      "t:  48%|████▊     | 66/138 [00:00<00:00, 83.58it/s, now=None] \u001b[A\n",
      "t:  54%|█████▍    | 75/138 [00:00<00:00, 84.92it/s, now=None]\u001b[A\n",
      "t:  62%|██████▏   | 86/138 [00:00<00:00, 90.33it/s, now=None]\u001b[A\n",
      "t:  70%|██████▉   | 96/138 [00:00<00:00, 90.01it/s, now=None]\u001b[A\n",
      "t:  77%|███████▋  | 106/138 [00:01<00:00, 91.62it/s, now=None]\u001b[A\n",
      "t:  84%|████████▍ | 116/138 [00:01<00:00, 93.62it/s, now=None]\u001b[A\n",
      "t:  91%|█████████▏| 126/138 [00:01<00:00, 91.80it/s, now=None]\u001b[A\n",
      "t:  99%|█████████▊| 136/138 [00:01<00:00, 79.45it/s, now=None]\u001b[A\n",
      "chunk:  32%|███▏      | 33/102 [01:29<03:07,  2.72s/it, now=None]\n",
      "chunk:   0%|          | 0/82 [00:00<?, ?it/s, now=None]\u001b[A"
     ]
    },
    {
     "name": "stdout",
     "output_type": "stream",
     "text": [
      "Moviepy - Done !\n",
      "Moviepy - video ready extractTest/video/long/41.mp4\n",
      "MoviePy - Writing audio in %s\n"
     ]
    },
    {
     "name": "stderr",
     "output_type": "stream",
     "text": [
      "\n",
      "chunk:  46%|████▋     | 38/82 [00:00<00:00, 239.05it/s, now=None]\u001b[A\n",
      "chunk:  76%|███████▌  | 62/82 [00:00<00:00, 235.57it/s, now=None]\u001b[A\n",
      "chunk:  32%|███▏      | 33/102 [01:30<03:08,  2.74s/it, now=None]\u001b[A\n",
      "t:   0%|          | 0/111 [00:00<?, ?it/s, now=None]\u001b[A\n",
      "t:  12%|█▏        | 13/111 [00:00<00:00, 129.55it/s, now=None]\u001b[A"
     ]
    },
    {
     "name": "stdout",
     "output_type": "stream",
     "text": [
      "MoviePy - Done.\n",
      "Moviepy - Building video extractTest/video/long/49.mp4.\n",
      "Moviepy - Writing video extractTest/video/long/49.mp4\n",
      "\n"
     ]
    },
    {
     "name": "stderr",
     "output_type": "stream",
     "text": [
      "\n",
      "t:  32%|███▏      | 36/111 [00:00<00:00, 148.04it/s, now=None]\u001b[A\n",
      "t:  43%|████▎     | 48/111 [00:00<00:00, 119.36it/s, now=None]\u001b[A\n",
      "t:  52%|█████▏    | 58/111 [00:00<00:00, 106.13it/s, now=None]\u001b[A\n",
      "t:  62%|██████▏   | 69/111 [00:00<00:00, 100.73it/s, now=None]\u001b[A\n",
      "t:  72%|███████▏  | 80/111 [00:00<00:00, 101.43it/s, now=None]\u001b[A\n",
      "t:  81%|████████  | 90/111 [00:00<00:00, 96.65it/s, now=None] \u001b[A\n",
      "t:  90%|█████████ | 100/111 [00:00<00:00, 79.31it/s, now=None]\u001b[A\n",
      "t:  98%|█████████▊| 109/111 [00:01<00:00, 79.50it/s, now=None]\u001b[A\n",
      "chunk:  32%|███▏      | 33/102 [01:32<03:12,  2.79s/it, now=None]\n",
      "chunk:   0%|          | 0/140 [00:00<?, ?it/s, now=None]\u001b[A"
     ]
    },
    {
     "name": "stdout",
     "output_type": "stream",
     "text": [
      "Moviepy - Done !\n",
      "Moviepy - video ready extractTest/video/long/49.mp4\n",
      "MoviePy - Writing audio in %s\n"
     ]
    },
    {
     "name": "stderr",
     "output_type": "stream",
     "text": [
      "\n",
      "chunk:  27%|██▋       | 38/140 [00:00<00:00, 205.97it/s, now=None]\u001b[A\n",
      "chunk:  39%|███▊      | 54/140 [00:00<00:00, 188.83it/s, now=None]\u001b[A\n",
      "chunk:  56%|█████▌    | 78/140 [00:00<00:00, 193.60it/s, now=None]\u001b[A\n",
      "chunk:  71%|███████▏  | 100/140 [00:00<00:00, 194.32it/s, now=None]\u001b[A\n",
      "chunk:  89%|████████▊ | 124/140 [00:00<00:00, 204.15it/s, now=None]\u001b[A\n",
      "chunk:  32%|███▏      | 33/102 [01:32<03:14,  2.82s/it, now=None]  \u001b[A\n",
      "t:   0%|          | 0/189 [00:00<?, ?it/s, now=None]\u001b[A\n",
      "t:   8%|▊         | 15/189 [00:00<00:01, 147.49it/s, now=None]\u001b[A"
     ]
    },
    {
     "name": "stdout",
     "output_type": "stream",
     "text": [
      "MoviePy - Done.\n",
      "Moviepy - Building video extractTest/video/long/50.mp4.\n",
      "Moviepy - Writing video extractTest/video/long/50.mp4\n",
      "\n"
     ]
    },
    {
     "name": "stderr",
     "output_type": "stream",
     "text": [
      "\n",
      "t:  11%|█         | 20/189 [00:00<00:02, 79.32it/s, now=None] \u001b[A\n",
      "t:  14%|█▍        | 26/189 [00:00<00:02, 63.28it/s, now=None]\u001b[A\n",
      "t:  22%|██▏       | 41/189 [00:00<00:01, 75.57it/s, now=None]\u001b[A\n",
      "t:  26%|██▌       | 49/189 [00:00<00:02, 63.36it/s, now=None]\u001b[A\n",
      "t:  30%|███       | 57/189 [00:00<00:01, 66.44it/s, now=None]\u001b[A\n",
      "t:  34%|███▍      | 64/189 [00:00<00:01, 64.37it/s, now=None]\u001b[A\n",
      "t:  38%|███▊      | 71/189 [00:01<00:02, 58.87it/s, now=None]\u001b[A\n",
      "t:  41%|████▏     | 78/189 [00:01<00:01, 61.52it/s, now=None]\u001b[A\n",
      "t:  45%|████▍     | 85/189 [00:01<00:01, 55.39it/s, now=None]\u001b[A\n",
      "t:  49%|████▉     | 93/189 [00:01<00:01, 57.07it/s, now=None]\u001b[A\n",
      "t:  52%|█████▏    | 99/189 [00:01<00:01, 56.25it/s, now=None]\u001b[A\n",
      "t:  58%|█████▊    | 109/189 [00:01<00:01, 62.24it/s, now=None]\u001b[A\n",
      "t:  61%|██████▏   | 116/189 [00:01<00:01, 63.73it/s, now=None]\u001b[A\n",
      "t:  66%|██████▌   | 124/189 [00:01<00:01, 64.94it/s, now=None]\u001b[A\n",
      "t:  70%|███████   | 133/189 [00:01<00:00, 68.46it/s, now=None]\u001b[A\n",
      "t:  75%|███████▍  | 141/189 [00:02<00:00, 70.76it/s, now=None]\u001b[A\n",
      "t:  79%|███████▉  | 150/189 [00:02<00:00, 75.56it/s, now=None]\u001b[A\n",
      "t:  84%|████████▎ | 158/189 [00:02<00:00, 71.76it/s, now=None]\u001b[A\n",
      "t:  88%|████████▊ | 167/189 [00:02<00:00, 75.67it/s, now=None]\u001b[A\n",
      "t:  93%|█████████▎| 176/189 [00:02<00:00, 75.07it/s, now=None]\u001b[A\n",
      "t:  98%|█████████▊| 185/189 [00:02<00:00, 78.78it/s, now=None]\u001b[A\n",
      "chunk:  32%|███▏      | 33/102 [01:36<03:20,  2.91s/it, now=None]"
     ]
    },
    {
     "name": "stdout",
     "output_type": "stream",
     "text": [
      "Moviepy - Done !\n",
      "Moviepy - video ready extractTest/video/long/50.mp4\n"
     ]
    },
    {
     "name": "stderr",
     "output_type": "stream",
     "text": [
      "chunk:  32%|███▏      | 33/102 [01:36<03:21,  2.92s/it, now=None]\n",
      "chunk:   0%|          | 0/107 [00:00<?, ?it/s, now=None]\u001b[A\n",
      "chunk:  36%|███▌      | 38/107 [00:00<00:00, 261.54it/s, now=None]\u001b[A"
     ]
    },
    {
     "name": "stdout",
     "output_type": "stream",
     "text": [
      "MoviePy - Writing audio in %s\n"
     ]
    },
    {
     "name": "stderr",
     "output_type": "stream",
     "text": [
      "\n",
      "chunk:  54%|█████▍    | 58/107 [00:00<00:00, 233.04it/s, now=None]\u001b[A\n",
      "chunk:  77%|███████▋  | 82/107 [00:00<00:00, 227.66it/s, now=None]\u001b[A\n",
      "chunk:  97%|█████████▋| 104/107 [00:00<00:00, 224.50it/s, now=None]\u001b[A\n",
      "chunk:  32%|███▏      | 33/102 [01:36<03:22,  2.94s/it, now=None]  \u001b[A\n",
      "t:   0%|          | 0/145 [00:00<?, ?it/s, now=None]\u001b[A\n",
      "t:  11%|█         | 16/145 [00:00<00:00, 158.60it/s, now=None]\u001b[A"
     ]
    },
    {
     "name": "stdout",
     "output_type": "stream",
     "text": [
      "MoviePy - Done.\n",
      "Moviepy - Building video extractTest/video/long/53.mp4.\n",
      "Moviepy - Writing video extractTest/video/long/53.mp4\n",
      "\n"
     ]
    },
    {
     "name": "stderr",
     "output_type": "stream",
     "text": [
      "\n",
      "t:  23%|██▎       | 34/145 [00:00<00:00, 164.26it/s, now=None]\u001b[A\n",
      "t:  32%|███▏      | 47/145 [00:00<00:00, 147.77it/s, now=None]\u001b[A\n",
      "t:  39%|███▉      | 57/145 [00:00<00:00, 94.35it/s, now=None] \u001b[A\n",
      "t:  46%|████▌     | 66/145 [00:00<00:00, 90.97it/s, now=None]\u001b[A\n",
      "t:  52%|█████▏    | 75/145 [00:00<00:00, 87.90it/s, now=None]\u001b[A\n",
      "t:  59%|█████▊    | 85/145 [00:00<00:00, 89.80it/s, now=None]\u001b[A\n",
      "t:  66%|██████▌   | 95/145 [00:00<00:00, 92.39it/s, now=None]\u001b[A\n",
      "t:  72%|███████▏  | 105/145 [00:01<00:00, 92.01it/s, now=None]\u001b[A\n",
      "t:  79%|███████▉  | 115/145 [00:01<00:00, 90.54it/s, now=None]\u001b[A\n",
      "t:  86%|████████▌ | 124/145 [00:01<00:00, 86.97it/s, now=None]\u001b[A\n",
      "t:  92%|█████████▏| 133/145 [00:01<00:00, 80.87it/s, now=None]\u001b[A\n",
      "t:  98%|█████████▊| 142/145 [00:01<00:00, 81.31it/s, now=None]\u001b[A\n",
      "chunk:  32%|███▏      | 33/102 [01:38<03:26,  3.00s/it, now=None]\n",
      "chunk:   0%|          | 0/75 [00:00<?, ?it/s, now=None]\u001b[A"
     ]
    },
    {
     "name": "stdout",
     "output_type": "stream",
     "text": [
      "Moviepy - Done !\n",
      "Moviepy - video ready extractTest/video/long/53.mp4\n",
      "MoviePy - Writing audio in %s\n"
     ]
    },
    {
     "name": "stderr",
     "output_type": "stream",
     "text": [
      "\n",
      "chunk:  51%|█████     | 38/75 [00:00<00:00, 305.42it/s, now=None]\u001b[A\n",
      "chunk:  83%|████████▎ | 62/75 [00:00<00:00, 275.29it/s, now=None]\u001b[A\n",
      "chunk:  32%|███▏      | 33/102 [01:39<03:27,  3.01s/it, now=None]\u001b[A\n",
      "t:   0%|          | 0/101 [00:00<?, ?it/s, now=None]\u001b[A\n",
      "t:  22%|██▏       | 22/101 [00:00<00:00, 218.03it/s, now=None]\u001b[A"
     ]
    },
    {
     "name": "stdout",
     "output_type": "stream",
     "text": [
      "MoviePy - Done.\n",
      "Moviepy - Building video extractTest/video/long/59.mp4.\n",
      "Moviepy - Writing video extractTest/video/long/59.mp4\n",
      "\n"
     ]
    },
    {
     "name": "stderr",
     "output_type": "stream",
     "text": [
      "\n",
      "t:  47%|████▋     | 47/101 [00:00<00:00, 225.76it/s, now=None]\u001b[A\n",
      "t:  58%|█████▊    | 59/101 [00:00<00:00, 153.18it/s, now=None]\u001b[A\n",
      "t:  69%|██████▉   | 70/101 [00:00<00:00, 131.89it/s, now=None]\u001b[A\n",
      "t:  80%|████████  | 81/101 [00:00<00:00, 123.78it/s, now=None]\u001b[A\n",
      "t:  91%|█████████ | 92/101 [00:00<00:00, 115.16it/s, now=None]\u001b[A\n",
      "chunk:  32%|███▏      | 33/102 [01:40<03:30,  3.05s/it, now=None]\n",
      "chunk:   0%|          | 0/72 [00:00<?, ?it/s, now=None]\u001b[A"
     ]
    },
    {
     "name": "stdout",
     "output_type": "stream",
     "text": [
      "Moviepy - Done !\n",
      "Moviepy - video ready extractTest/video/long/59.mp4\n",
      "MoviePy - Writing audio in %s\n"
     ]
    },
    {
     "name": "stderr",
     "output_type": "stream",
     "text": [
      "\n",
      "chunk:  53%|█████▎    | 38/72 [00:00<00:00, 261.95it/s, now=None]\u001b[A\n",
      "chunk:  86%|████████▌ | 62/72 [00:00<00:00, 252.50it/s, now=None]\u001b[A\n",
      "chunk:  32%|███▏      | 33/102 [01:41<03:31,  3.06s/it, now=None]\u001b[A\n",
      "t:   0%|          | 0/98 [00:00<?, ?it/s, now=None]\u001b[A\n",
      "t:  24%|██▍       | 24/98 [00:00<00:00, 239.78it/s, now=None]\u001b[A"
     ]
    },
    {
     "name": "stdout",
     "output_type": "stream",
     "text": [
      "MoviePy - Done.\n",
      "Moviepy - Building video extractTest/video/long/64.mp4.\n",
      "Moviepy - Writing video extractTest/video/long/64.mp4\n",
      "\n"
     ]
    },
    {
     "name": "stderr",
     "output_type": "stream",
     "text": [
      "\n",
      "t:  40%|███▉      | 39/98 [00:00<00:00, 199.33it/s, now=None]\u001b[A\n",
      "t:  53%|█████▎    | 52/98 [00:00<00:00, 165.23it/s, now=None]\u001b[A\n",
      "t:  66%|██████▋   | 65/98 [00:00<00:00, 150.43it/s, now=None]\u001b[A\n",
      "t:  84%|████████▎ | 82/98 [00:00<00:00, 152.95it/s, now=None]\u001b[A\n",
      "t:  97%|█████████▋| 95/98 [00:00<00:00, 111.48it/s, now=None]\u001b[A\n",
      "chunk:  32%|███▏      | 33/102 [01:42<03:33,  3.09s/it, now=None]\n",
      "chunk:   0%|          | 0/105 [00:00<?, ?it/s, now=None]\u001b[A\n",
      "chunk:  36%|███▌      | 38/105 [00:00<00:00, 241.07it/s, now=None]"
     ]
    },
    {
     "name": "stdout",
     "output_type": "stream",
     "text": [
      "Moviepy - Done !\n",
      "Moviepy - video ready extractTest/video/long/64.mp4\n",
      "MoviePy - Writing audio in %s\n"
     ]
    },
    {
     "name": "stderr",
     "output_type": "stream",
     "text": [
      "\u001b[A\n",
      "chunk:  48%|████▊     | 50/105 [00:00<00:00, 177.11it/s, now=None]\u001b[A\n",
      "chunk:  59%|█████▉    | 62/105 [00:00<00:00, 154.65it/s, now=None]\u001b[A\n",
      "chunk:  82%|████████▏ | 86/105 [00:00<00:00, 170.69it/s, now=None]\u001b[A\n",
      "chunk:  32%|███▏      | 33/102 [01:42<03:34,  3.11s/it, now=None] \u001b[A\n",
      "t:   0%|          | 0/142 [00:00<?, ?it/s, now=None]\u001b[A\n",
      "t:  15%|█▌        | 22/142 [00:00<00:00, 219.30it/s, now=None]\u001b[A"
     ]
    },
    {
     "name": "stdout",
     "output_type": "stream",
     "text": [
      "MoviePy - Done.\n",
      "Moviepy - Building video extractTest/video/long/65.mp4.\n",
      "Moviepy - Writing video extractTest/video/long/65.mp4\n",
      "\n"
     ]
    },
    {
     "name": "stderr",
     "output_type": "stream",
     "text": [
      "\n",
      "t:  33%|███▎      | 47/142 [00:00<00:00, 227.48it/s, now=None]\u001b[A\n",
      "t:  42%|████▏     | 60/142 [00:00<00:00, 177.91it/s, now=None]\u001b[A\n",
      "t:  56%|█████▌    | 79/142 [00:00<00:00, 179.51it/s, now=None]\u001b[A\n",
      "t:  65%|██████▌   | 93/142 [00:00<00:00, 160.49it/s, now=None]\u001b[A\n",
      "t:  80%|███████▉  | 113/142 [00:00<00:00, 164.41it/s, now=None]\u001b[A\n",
      "t:  92%|█████████▏| 130/142 [00:00<00:00, 165.19it/s, now=None]\u001b[A\n",
      "chunk:  32%|███▏      | 33/102 [01:43<03:36,  3.14s/it, now=None]A\n",
      "chunk:   0%|          | 0/100 [00:00<?, ?it/s, now=None]\u001b[A\n",
      "chunk:  38%|███▊      | 38/100 [00:00<00:00, 306.22it/s, now=None]\u001b[A"
     ]
    },
    {
     "name": "stdout",
     "output_type": "stream",
     "text": [
      "Moviepy - Done !\n",
      "Moviepy - video ready extractTest/video/long/65.mp4\n",
      "MoviePy - Writing audio in %s\n"
     ]
    },
    {
     "name": "stderr",
     "output_type": "stream",
     "text": [
      "\n",
      "chunk:  66%|██████▌   | 66/100 [00:00<00:00, 295.15it/s, now=None]\u001b[A\n",
      "chunk:  94%|█████████▍| 94/100 [00:00<00:00, 284.70it/s, now=None]\u001b[A\n",
      "chunk:  32%|███▏      | 33/102 [01:44<03:37,  3.16s/it, now=None] \u001b[A\n",
      "t:   0%|          | 0/135 [00:00<?, ?it/s, now=None]\u001b[A\n",
      "t:   9%|▉         | 12/135 [00:00<00:01, 120.00it/s, now=None]\u001b[A"
     ]
    },
    {
     "name": "stdout",
     "output_type": "stream",
     "text": [
      "MoviePy - Done.\n",
      "Moviepy - Building video extractTest/video/long/66.mp4.\n",
      "Moviepy - Writing video extractTest/video/long/66.mp4\n",
      "\n"
     ]
    },
    {
     "name": "stderr",
     "output_type": "stream",
     "text": [
      "\n",
      "t:  23%|██▎       | 31/135 [00:00<00:00, 134.18it/s, now=None]\u001b[A\n",
      "t:  36%|███▋      | 49/135 [00:00<00:00, 139.90it/s, now=None]\u001b[A\n",
      "t:  44%|████▍     | 60/135 [00:00<00:00, 86.11it/s, now=None] \u001b[A\n",
      "t:  51%|█████     | 69/135 [00:00<00:00, 74.91it/s, now=None]\u001b[A\n",
      "t:  60%|██████    | 81/135 [00:00<00:00, 84.41it/s, now=None]\u001b[A\n",
      "t:  69%|██████▉   | 93/135 [00:00<00:00, 92.25it/s, now=None]\u001b[A\n",
      "t:  76%|███████▋  | 103/135 [00:01<00:00, 75.89it/s, now=None]\u001b[A\n",
      "t:  83%|████████▎ | 112/135 [00:01<00:00, 76.68it/s, now=None]\u001b[A\n",
      "t:  90%|█████████ | 122/135 [00:01<00:00, 79.70it/s, now=None]\u001b[A\n",
      "t: 100%|██████████| 135/135 [00:01<00:00, 89.95it/s, now=None]\u001b[A\n",
      "chunk:  32%|███▏      | 33/102 [01:45<03:41,  3.21s/it, now=None]\n",
      "chunk:   0%|          | 0/108 [00:00<?, ?it/s, now=None]\u001b[A"
     ]
    },
    {
     "name": "stdout",
     "output_type": "stream",
     "text": [
      "Moviepy - Done !\n",
      "Moviepy - video ready extractTest/video/long/66.mp4\n",
      "MoviePy - Writing audio in %s\n"
     ]
    },
    {
     "name": "stderr",
     "output_type": "stream",
     "text": [
      "\n",
      "chunk:  35%|███▌      | 38/108 [00:00<00:00, 263.32it/s, now=None]\u001b[A\n",
      "chunk:  57%|█████▋    | 62/108 [00:00<00:00, 252.95it/s, now=None]\u001b[A\n",
      "chunk:  80%|███████▉  | 86/108 [00:00<00:00, 243.09it/s, now=None]\u001b[A\n",
      "chunk: 100%|██████████| 108/108 [00:00<00:00, 235.66it/s, now=None]\u001b[A\n",
      "chunk:  32%|███▏      | 33/102 [01:46<03:42,  3.23s/it, now=None]  \u001b[A\n",
      "t:   0%|          | 0/146 [00:00<?, ?it/s, now=None]\u001b[A\n",
      "t:  12%|█▏        | 18/146 [00:00<00:00, 172.69it/s, now=None]\u001b[A"
     ]
    },
    {
     "name": "stdout",
     "output_type": "stream",
     "text": [
      "MoviePy - Done.\n",
      "Moviepy - Building video extractTest/video/long/68.mp4.\n",
      "Moviepy - Writing video extractTest/video/long/68.mp4\n",
      "\n"
     ]
    },
    {
     "name": "stderr",
     "output_type": "stream",
     "text": [
      "\n",
      "t:  21%|██        | 30/146 [00:00<00:00, 149.07it/s, now=None]\u001b[A\n",
      "t:  33%|███▎      | 48/146 [00:00<00:00, 152.54it/s, now=None]\u001b[A\n",
      "t:  40%|███▉      | 58/146 [00:00<00:00, 126.84it/s, now=None]\u001b[A\n",
      "t:  51%|█████▏    | 75/146 [00:00<00:00, 136.64it/s, now=None]\u001b[A\n",
      "t:  60%|█████▉    | 87/146 [00:00<00:00, 126.46it/s, now=None]\u001b[A\n",
      "t:  70%|██████▉   | 102/146 [00:00<00:00, 131.45it/s, now=None]\u001b[A\n",
      "t:  82%|████████▏ | 119/146 [00:00<00:00, 140.36it/s, now=None]\u001b[A\n",
      "t:  93%|█████████▎| 136/146 [00:00<00:00, 146.63it/s, now=None]\u001b[A\n",
      "chunk:  32%|███▏      | 33/102 [01:47<03:45,  3.27s/it, now=None]A\n",
      "chunk:   0%|          | 0/72 [00:00<?, ?it/s, now=None]\u001b[A"
     ]
    },
    {
     "name": "stdout",
     "output_type": "stream",
     "text": [
      "Moviepy - Done !\n",
      "Moviepy - video ready extractTest/video/long/68.mp4\n",
      "MoviePy - Writing audio in %s\n"
     ]
    },
    {
     "name": "stderr",
     "output_type": "stream",
     "text": [
      "\n",
      "chunk:  53%|█████▎    | 38/72 [00:00<00:00, 217.37it/s, now=None]\u001b[A\n",
      "chunk:  86%|████████▌ | 62/72 [00:00<00:00, 214.70it/s, now=None]\u001b[A\n",
      "chunk:  32%|███▏      | 33/102 [01:48<03:46,  3.28s/it, now=None]\u001b[A\n",
      "t:   0%|          | 0/98 [00:00<?, ?it/s, now=None]\u001b[A\n",
      "t:  24%|██▍       | 24/98 [00:00<00:00, 235.11it/s, now=None]\u001b[A"
     ]
    },
    {
     "name": "stdout",
     "output_type": "stream",
     "text": [
      "MoviePy - Done.\n",
      "Moviepy - Building video extractTest/video/long/84.mp4.\n",
      "Moviepy - Writing video extractTest/video/long/84.mp4\n",
      "\n"
     ]
    },
    {
     "name": "stderr",
     "output_type": "stream",
     "text": [
      "\n",
      "t:  45%|████▍     | 44/98 [00:00<00:00, 222.04it/s, now=None]\u001b[A\n",
      "t:  56%|█████▌    | 55/98 [00:00<00:00, 150.38it/s, now=None]\u001b[A\n",
      "t:  67%|██████▋   | 66/98 [00:00<00:00, 126.88it/s, now=None]\u001b[A\n",
      "t:  83%|████████▎ | 81/98 [00:00<00:00, 127.00it/s, now=None]\u001b[A\n",
      "t:  95%|█████████▍| 93/98 [00:00<00:00, 124.57it/s, now=None]\u001b[A\n",
      "chunk:  32%|███▏      | 33/102 [01:49<03:48,  3.32s/it, now=None]\n",
      "chunk:   0%|          | 0/76 [00:00<?, ?it/s, now=None]\u001b[A"
     ]
    },
    {
     "name": "stdout",
     "output_type": "stream",
     "text": [
      "Moviepy - Done !\n",
      "Moviepy - video ready extractTest/video/long/84.mp4\n",
      "MoviePy - Writing audio in %s\n"
     ]
    },
    {
     "name": "stderr",
     "output_type": "stream",
     "text": [
      "\n",
      "chunk:  50%|█████     | 38/76 [00:00<00:00, 255.05it/s, now=None]\u001b[A\n",
      "chunk:  87%|████████▋ | 66/76 [00:00<00:00, 256.90it/s, now=None]\u001b[A\n",
      "chunk:  32%|███▏      | 33/102 [01:49<03:49,  3.33s/it, now=None]\u001b[A\n",
      "t:   0%|          | 0/103 [00:00<?, ?it/s, now=None]\u001b[A\n",
      "t:  22%|██▏       | 23/103 [00:00<00:00, 224.86it/s, now=None]\u001b[A"
     ]
    },
    {
     "name": "stdout",
     "output_type": "stream",
     "text": [
      "MoviePy - Done.\n",
      "Moviepy - Building video extractTest/video/long/88.mp4.\n",
      "Moviepy - Writing video extractTest/video/long/88.mp4\n",
      "\n"
     ]
    },
    {
     "name": "stderr",
     "output_type": "stream",
     "text": [
      "\n",
      "t:  44%|████▎     | 45/103 [00:00<00:00, 222.11it/s, now=None]\u001b[A\n",
      "t:  55%|█████▌    | 57/103 [00:00<00:00, 157.21it/s, now=None]\u001b[A\n",
      "t:  71%|███████   | 73/103 [00:00<00:00, 153.07it/s, now=None]\u001b[A\n",
      "t:  83%|████████▎ | 85/103 [00:00<00:00, 135.40it/s, now=None]\u001b[A\n",
      "t:  96%|█████████▌| 99/103 [00:00<00:00, 135.59it/s, now=None]\u001b[A\n",
      "chunk:  32%|███▏      | 33/102 [01:50<03:51,  3.36s/it, now=None]\n",
      "chunk:   0%|          | 0/95 [00:00<?, ?it/s, now=None]\u001b[A"
     ]
    },
    {
     "name": "stdout",
     "output_type": "stream",
     "text": [
      "Moviepy - Done !\n",
      "Moviepy - video ready extractTest/video/long/88.mp4\n",
      "MoviePy - Writing audio in %s\n"
     ]
    },
    {
     "name": "stderr",
     "output_type": "stream",
     "text": [
      "\n",
      "chunk:  40%|████      | 38/95 [00:00<00:00, 256.77it/s, now=None]\u001b[A\n",
      "chunk:  61%|██████    | 58/95 [00:00<00:00, 233.22it/s, now=None]\u001b[A\n",
      "chunk:  82%|████████▏ | 78/95 [00:00<00:00, 216.24it/s, now=None]\u001b[A\n",
      "chunk:  32%|███▏      | 33/102 [01:51<03:53,  3.38s/it, now=None]\u001b[A\n",
      "t:   0%|          | 0/129 [00:00<?, ?it/s, now=None]\u001b[A\n",
      "t:  12%|█▏        | 15/129 [00:00<00:00, 149.30it/s, now=None]\u001b[A"
     ]
    },
    {
     "name": "stdout",
     "output_type": "stream",
     "text": [
      "MoviePy - Done.\n",
      "Moviepy - Building video extractTest/video/long/96.mp4.\n",
      "Moviepy - Writing video extractTest/video/long/96.mp4\n",
      "\n"
     ]
    },
    {
     "name": "stderr",
     "output_type": "stream",
     "text": [
      "\n",
      "t:  26%|██▌       | 33/129 [00:00<00:00, 153.39it/s, now=None]\u001b[A\n",
      "t:  33%|███▎      | 42/129 [00:00<00:00, 112.59it/s, now=None]\u001b[A\n",
      "t:  41%|████      | 53/129 [00:00<00:00, 105.59it/s, now=None]\u001b[A\n",
      "t:  52%|█████▏    | 67/129 [00:00<00:00, 111.54it/s, now=None]\u001b[A\n",
      "t:  60%|█████▉    | 77/129 [00:00<00:00, 99.98it/s, now=None] \u001b[A\n",
      "t:  67%|██████▋   | 87/129 [00:00<00:00, 96.15it/s, now=None]\u001b[A\n",
      "t:  79%|███████▉  | 102/129 [00:00<00:00, 107.30it/s, now=None]\u001b[A\n",
      "t:  90%|████████▉ | 116/129 [00:01<00:00, 114.81it/s, now=None]\u001b[A\n",
      "chunk:  32%|███▏      | 33/102 [01:52<03:55,  3.42s/it, now=None]A\n",
      "chunk:   0%|          | 0/115 [00:00<?, ?it/s, now=None]\u001b[A\n",
      "chunk:  33%|███▎      | 38/115 [00:00<00:00, 318.73it/s, now=None]\u001b[A"
     ]
    },
    {
     "name": "stdout",
     "output_type": "stream",
     "text": [
      "Moviepy - Done !\n",
      "Moviepy - video ready extractTest/video/long/96.mp4\n",
      "MoviePy - Writing audio in %s\n"
     ]
    },
    {
     "name": "stderr",
     "output_type": "stream",
     "text": [
      "\n",
      "chunk:  54%|█████▍    | 62/115 [00:00<00:00, 288.94it/s, now=None]\u001b[A\n",
      "chunk:  78%|███████▊  | 90/115 [00:00<00:00, 285.09it/s, now=None]\u001b[A\n",
      "chunk:  32%|███▏      | 33/102 [01:53<03:56,  3.43s/it, now=None] \u001b[A\n",
      "t:   0%|          | 0/156 [00:00<?, ?it/s, now=None]\u001b[A\n",
      "t:  14%|█▍        | 22/156 [00:00<00:00, 212.20it/s, now=None]\u001b[A"
     ]
    },
    {
     "name": "stdout",
     "output_type": "stream",
     "text": [
      "MoviePy - Done.\n",
      "Moviepy - Building video extractTest/video/long/97.mp4.\n",
      "Moviepy - Writing video extractTest/video/long/97.mp4\n",
      "\n"
     ]
    },
    {
     "name": "stderr",
     "output_type": "stream",
     "text": [
      "\n",
      "t:  26%|██▋       | 41/156 [00:00<00:00, 204.32it/s, now=None]\u001b[A\n",
      "t:  34%|███▍      | 53/156 [00:00<00:00, 158.39it/s, now=None]\u001b[A\n",
      "t:  41%|████      | 64/156 [00:00<00:00, 132.70it/s, now=None]\u001b[A\n",
      "t:  49%|████▊     | 76/156 [00:00<00:00, 127.54it/s, now=None]\u001b[A\n",
      "t:  60%|██████    | 94/156 [00:00<00:00, 139.01it/s, now=None]\u001b[A\n",
      "t:  69%|██████▊   | 107/156 [00:00<00:00, 135.77it/s, now=None]\u001b[A\n",
      "t:  77%|███████▋  | 120/156 [00:00<00:00, 111.74it/s, now=None]\u001b[A\n",
      "t:  86%|████████▌ | 134/156 [00:01<00:00, 116.60it/s, now=None]\u001b[A\n",
      "t:  96%|█████████▌| 149/156 [00:01<00:00, 123.67it/s, now=None]\u001b[A\n",
      "chunk:  32%|███▏      | 33/102 [01:54<03:59,  3.48s/it, now=None]A\n",
      "chunk:   0%|          | 0/95 [00:00<?, ?it/s, now=None]\u001b[A"
     ]
    },
    {
     "name": "stdout",
     "output_type": "stream",
     "text": [
      "Moviepy - Done !\n",
      "Moviepy - video ready extractTest/video/long/97.mp4\n",
      "MoviePy - Writing audio in %s\n"
     ]
    },
    {
     "name": "stderr",
     "output_type": "stream",
     "text": [
      "\n",
      "chunk:  40%|████      | 38/95 [00:00<00:00, 288.35it/s, now=None]\u001b[A\n",
      "chunk:  69%|██████▉   | 66/95 [00:00<00:00, 280.97it/s, now=None]\u001b[A\n",
      "chunk:  99%|█████████▉| 94/95 [00:00<00:00, 274.38it/s, now=None]\u001b[A\n",
      "chunk:  32%|███▏      | 33/102 [01:55<04:00,  3.49s/it, now=None]\u001b[A\n",
      "t:   0%|          | 0/129 [00:00<?, ?it/s, now=None]\u001b[A\n",
      "t:  16%|█▋        | 21/129 [00:00<00:00, 204.66it/s, now=None]\u001b[A"
     ]
    },
    {
     "name": "stdout",
     "output_type": "stream",
     "text": [
      "MoviePy - Done.\n",
      "Moviepy - Building video extractTest/video/long/103.mp4.\n",
      "Moviepy - Writing video extractTest/video/long/103.mp4\n",
      "\n"
     ]
    },
    {
     "name": "stderr",
     "output_type": "stream",
     "text": [
      "\n",
      "t:  29%|██▊       | 37/129 [00:00<00:00, 188.08it/s, now=None]\u001b[A\n",
      "t:  40%|███▉      | 51/129 [00:00<00:00, 170.04it/s, now=None]\u001b[A\n",
      "t:  53%|█████▎    | 69/129 [00:00<00:00, 172.90it/s, now=None]\u001b[A\n",
      "t:  64%|██████▍   | 83/129 [00:00<00:00, 160.95it/s, now=None]\u001b[A\n",
      "t:  78%|███████▊  | 101/129 [00:00<00:00, 163.73it/s, now=None]\u001b[A\n",
      "t:  91%|█████████ | 117/129 [00:00<00:00, 161.38it/s, now=None]\u001b[A\n",
      "chunk:  32%|███▏      | 33/102 [01:56<04:03,  3.52s/it, now=None]A"
     ]
    },
    {
     "name": "stdout",
     "output_type": "stream",
     "text": [
      "Moviepy - Done !\n",
      "Moviepy - video ready extractTest/video/long/103.mp4\n"
     ]
    },
    {
     "name": "stderr",
     "output_type": "stream",
     "text": [
      "chunk:  32%|███▏      | 33/102 [01:56<04:03,  3.53s/it, now=None]\n",
      "chunk:   0%|          | 0/93 [00:00<?, ?it/s, now=None]\u001b[A\n",
      "chunk:  41%|████      | 38/93 [00:00<00:00, 312.45it/s, now=None]\u001b[A"
     ]
    },
    {
     "name": "stdout",
     "output_type": "stream",
     "text": [
      "MoviePy - Writing audio in %s\n"
     ]
    },
    {
     "name": "stderr",
     "output_type": "stream",
     "text": [
      "\n",
      "chunk:  67%|██████▋   | 62/93 [00:00<00:00, 285.18it/s, now=None]\u001b[A\n",
      "chunk:  92%|█████████▏| 86/93 [00:00<00:00, 269.20it/s, now=None]\u001b[A\n",
      "chunk:  32%|███▏      | 33/102 [01:56<04:04,  3.54s/it, now=None]\u001b[A\n",
      "t:   0%|          | 0/126 [00:00<?, ?it/s, now=None]\u001b[A\n",
      "t:  15%|█▌        | 19/126 [00:00<00:00, 186.37it/s, now=None]\u001b[A"
     ]
    },
    {
     "name": "stdout",
     "output_type": "stream",
     "text": [
      "MoviePy - Done.\n",
      "Moviepy - Building video extractTest/video/long/107.mp4.\n",
      "Moviepy - Writing video extractTest/video/long/107.mp4\n",
      "\n"
     ]
    },
    {
     "name": "stderr",
     "output_type": "stream",
     "text": [
      "\n",
      "t:  33%|███▎      | 41/126 [00:00<00:00, 194.41it/s, now=None]\u001b[A\n",
      "t:  41%|████▏     | 52/126 [00:00<00:00, 136.68it/s, now=None]\u001b[A\n",
      "t:  52%|█████▏    | 65/126 [00:00<00:00, 133.80it/s, now=None]\u001b[A\n",
      "t:  60%|██████    | 76/126 [00:00<00:00, 125.21it/s, now=None]\u001b[A\n",
      "t:  71%|███████▏  | 90/126 [00:00<00:00, 128.71it/s, now=None]\u001b[A\n",
      "t:  85%|████████▍ | 107/126 [00:00<00:00, 137.28it/s, now=None]\u001b[A\n",
      "t:  96%|█████████▌| 121/126 [00:00<00:00, 136.95it/s, now=None]\u001b[A\n",
      "chunk:  32%|███▏      | 33/102 [01:58<04:06,  3.58s/it, now=None]A\n",
      "chunk:   0%|          | 0/87 [00:00<?, ?it/s, now=None]\u001b[A\n",
      "chunk:  44%|████▎     | 38/87 [00:00<00:00, 288.34it/s, now=None]\u001b[A"
     ]
    },
    {
     "name": "stdout",
     "output_type": "stream",
     "text": [
      "Moviepy - Done !\n",
      "Moviepy - video ready extractTest/video/long/107.mp4\n",
      "MoviePy - Writing audio in %s\n"
     ]
    },
    {
     "name": "stderr",
     "output_type": "stream",
     "text": [
      "\n",
      "chunk:  67%|██████▋   | 58/87 [00:00<00:00, 253.46it/s, now=None]\u001b[A\n",
      "chunk:  85%|████████▌ | 74/87 [00:00<00:00, 211.50it/s, now=None]\u001b[A\n",
      "chunk:  32%|███▏      | 33/102 [01:58<04:07,  3.59s/it, now=None]\u001b[A\n",
      "t:   0%|          | 0/118 [00:00<?, ?it/s, now=None]\u001b[A\n",
      "t:  16%|█▌        | 19/118 [00:00<00:00, 189.39it/s, now=None]\u001b[A"
     ]
    },
    {
     "name": "stdout",
     "output_type": "stream",
     "text": [
      "MoviePy - Done.\n",
      "Moviepy - Building video extractTest/video/long/108.mp4.\n",
      "Moviepy - Writing video extractTest/video/long/108.mp4\n",
      "\n"
     ]
    },
    {
     "name": "stderr",
     "output_type": "stream",
     "text": [
      "\n",
      "t:  31%|███       | 36/118 [00:00<00:00, 179.85it/s, now=None]\u001b[A\n",
      "t:  41%|████      | 48/118 [00:00<00:00, 150.38it/s, now=None]\u001b[A\n",
      "t:  50%|█████     | 59/118 [00:00<00:00, 130.20it/s, now=None]\u001b[A\n",
      "t:  64%|██████▍   | 76/118 [00:00<00:00, 139.50it/s, now=None]\u001b[A\n",
      "t:  75%|███████▍  | 88/118 [00:00<00:00, 106.43it/s, now=None]\u001b[A\n",
      "t:  84%|████████▍ | 99/118 [00:00<00:00, 106.51it/s, now=None]\u001b[A\n",
      "t:  93%|█████████▎| 110/118 [00:00<00:00, 106.84it/s, now=None]\u001b[A\n",
      "chunk:  32%|███▏      | 33/102 [01:59<04:10,  3.63s/it, now=None]A\n",
      "chunk:   0%|          | 0/75 [00:00<?, ?it/s, now=None]\u001b[A"
     ]
    },
    {
     "name": "stdout",
     "output_type": "stream",
     "text": [
      "Moviepy - Done !\n",
      "Moviepy - video ready extractTest/video/long/108.mp4\n",
      "MoviePy - Writing audio in %s\n"
     ]
    },
    {
     "name": "stderr",
     "output_type": "stream",
     "text": [
      "\n",
      "chunk:  51%|█████     | 38/75 [00:00<00:00, 214.02it/s, now=None]\u001b[A\n",
      "chunk:  83%|████████▎ | 62/75 [00:00<00:00, 215.44it/s, now=None]\u001b[A\n",
      "chunk:  32%|███▏      | 33/102 [02:00<04:11,  3.65s/it, now=None]\u001b[A\n",
      "t:   0%|          | 0/101 [00:00<?, ?it/s, now=None]\u001b[A\n",
      "t:  19%|█▉        | 19/101 [00:00<00:00, 186.33it/s, now=None]\u001b[A"
     ]
    },
    {
     "name": "stdout",
     "output_type": "stream",
     "text": [
      "MoviePy - Done.\n",
      "Moviepy - Building video extractTest/video/long/114.mp4.\n",
      "Moviepy - Writing video extractTest/video/long/114.mp4\n",
      "\n"
     ]
    },
    {
     "name": "stderr",
     "output_type": "stream",
     "text": [
      "\n",
      "t:  36%|███▌      | 36/101 [00:00<00:00, 179.17it/s, now=None]\u001b[A\n",
      "t:  50%|█████     | 51/101 [00:00<00:00, 166.05it/s, now=None]\u001b[A\n",
      "t:  61%|██████▏   | 62/101 [00:00<00:00, 141.76it/s, now=None]\u001b[A\n",
      "t:  73%|███████▎  | 74/101 [00:00<00:00, 133.72it/s, now=None]\u001b[A\n",
      "t:  84%|████████▍ | 85/101 [00:00<00:00, 117.21it/s, now=None]\u001b[A\n",
      "t:  95%|█████████▌| 96/101 [00:00<00:00, 106.64it/s, now=None]\u001b[A\n",
      "chunk:  32%|███▏      | 33/102 [02:01<04:13,  3.68s/it, now=None]"
     ]
    },
    {
     "name": "stdout",
     "output_type": "stream",
     "text": [
      "Moviepy - Done !\n",
      "Moviepy - video ready extractTest/video/long/114.mp4\n"
     ]
    },
    {
     "name": "stderr",
     "output_type": "stream",
     "text": [
      "chunk:  32%|███▏      | 33/102 [02:01<04:14,  3.68s/it, now=None]\n",
      "chunk:   0%|          | 0/73 [00:00<?, ?it/s, now=None]\u001b[A"
     ]
    },
    {
     "name": "stdout",
     "output_type": "stream",
     "text": [
      "MoviePy - Writing audio in %s\n"
     ]
    },
    {
     "name": "stderr",
     "output_type": "stream",
     "text": [
      "\n",
      "chunk:  55%|█████▍    | 40/73 [00:00<00:00, 205.48it/s, now=None]\u001b[A\n",
      "chunk:  77%|███████▋  | 56/73 [00:00<00:00, 188.75it/s, now=None]\u001b[A\n",
      "chunk:  32%|███▏      | 33/102 [02:02<04:15,  3.70s/it, now=None]\u001b[A\n",
      "t:   0%|          | 0/99 [00:00<?, ?it/s, now=None]\u001b[A\n",
      "t:  26%|██▋       | 26/99 [00:00<00:00, 259.88it/s, now=None]\u001b[A"
     ]
    },
    {
     "name": "stdout",
     "output_type": "stream",
     "text": [
      "MoviePy - Done.\n",
      "Moviepy - Building video extractTest/video/long/116.mp4.\n",
      "Moviepy - Writing video extractTest/video/long/116.mp4\n",
      "\n"
     ]
    },
    {
     "name": "stderr",
     "output_type": "stream",
     "text": [
      "\n",
      "t:  41%|████▏     | 41/99 [00:00<00:00, 209.40it/s, now=None]\u001b[A\n",
      "t:  54%|█████▎    | 53/99 [00:00<00:00, 171.12it/s, now=None]\u001b[A\n",
      "t:  71%|███████   | 70/99 [00:00<00:00, 169.22it/s, now=None]\u001b[A\n",
      "t:  93%|█████████▎| 92/99 [00:00<00:00, 181.54it/s, now=None]\u001b[A\n",
      "chunk:  32%|███▏      | 33/102 [02:02<04:16,  3.72s/it, now=None]\n",
      "chunk:   0%|          | 0/74 [00:00<?, ?it/s, now=None]\u001b[A"
     ]
    },
    {
     "name": "stdout",
     "output_type": "stream",
     "text": [
      "Moviepy - Done !\n",
      "Moviepy - video ready extractTest/video/long/116.mp4\n",
      "MoviePy - Writing audio in %s\n"
     ]
    },
    {
     "name": "stderr",
     "output_type": "stream",
     "text": [
      "\n",
      "chunk:  51%|█████▏    | 38/74 [00:00<00:00, 306.49it/s, now=None]\u001b[A\n",
      "chunk:  89%|████████▉ | 66/74 [00:00<00:00, 290.98it/s, now=None]\u001b[A\n",
      "chunk:  32%|███▏      | 33/102 [02:03<04:17,  3.74s/it, now=None]\u001b[A\n",
      "t:   0%|          | 0/101 [00:00<?, ?it/s, now=None]\u001b[A\n",
      "t:  26%|██▌       | 26/101 [00:00<00:00, 255.49it/s, now=None]\u001b[A"
     ]
    },
    {
     "name": "stdout",
     "output_type": "stream",
     "text": [
      "MoviePy - Done.\n",
      "Moviepy - Building video extractTest/video/long/121.mp4.\n",
      "Moviepy - Writing video extractTest/video/long/121.mp4\n",
      "\n"
     ]
    },
    {
     "name": "stderr",
     "output_type": "stream",
     "text": [
      "\n",
      "t:  47%|████▋     | 47/101 [00:00<00:00, 236.60it/s, now=None]\u001b[A\n",
      "t:  58%|█████▊    | 59/101 [00:00<00:00, 158.90it/s, now=None]\u001b[A\n",
      "t:  72%|███████▏  | 73/101 [00:00<00:00, 152.59it/s, now=None]\u001b[A\n",
      "t:  90%|█████████ | 91/101 [00:00<00:00, 159.34it/s, now=None]\u001b[A\n",
      "chunk:  32%|███▏      | 33/102 [02:04<04:19,  3.76s/it, now=None]\n",
      "chunk:   0%|          | 0/98 [00:00<?, ?it/s, now=None]\u001b[A\n",
      "chunk:  39%|███▉      | 38/98 [00:00<00:00, 265.38it/s, now=None]\u001b[A"
     ]
    },
    {
     "name": "stdout",
     "output_type": "stream",
     "text": [
      "Moviepy - Done !\n",
      "Moviepy - video ready extractTest/video/long/121.mp4\n",
      "MoviePy - Writing audio in %s\n"
     ]
    },
    {
     "name": "stderr",
     "output_type": "stream",
     "text": [
      "\n",
      "chunk:  67%|██████▋   | 66/98 [00:00<00:00, 266.20it/s, now=None]\u001b[A\n",
      "chunk:  93%|█████████▎| 91/98 [00:00<00:00, 259.66it/s, now=None]\u001b[A\n",
      "chunk:  32%|███▏      | 33/102 [02:04<04:20,  3.78s/it, now=None]\u001b[A\n",
      "t:   0%|          | 0/133 [00:00<?, ?it/s, now=None]\u001b[A\n",
      "t:  14%|█▍        | 19/133 [00:00<00:00, 187.50it/s, now=None]\u001b[A"
     ]
    },
    {
     "name": "stdout",
     "output_type": "stream",
     "text": [
      "MoviePy - Done.\n",
      "Moviepy - Building video extractTest/video/long/122.mp4.\n",
      "Moviepy - Writing video extractTest/video/long/122.mp4\n",
      "\n"
     ]
    },
    {
     "name": "stderr",
     "output_type": "stream",
     "text": [
      "\n",
      "t:  34%|███▍      | 45/133 [00:00<00:00, 201.97it/s, now=None]\u001b[A\n",
      "t:  43%|████▎     | 57/133 [00:00<00:00, 160.71it/s, now=None]\u001b[A\n",
      "t:  55%|█████▍    | 73/133 [00:00<00:00, 157.59it/s, now=None]\u001b[A\n",
      "t:  65%|██████▌   | 87/133 [00:00<00:00, 150.50it/s, now=None]\u001b[A\n",
      "t:  75%|███████▌  | 100/133 [00:00<00:00, 140.13it/s, now=None]\u001b[A\n",
      "t:  88%|████████▊ | 117/133 [00:00<00:00, 146.60it/s, now=None]\u001b[A\n",
      "t:  98%|█████████▊| 131/133 [00:00<00:00, 128.98it/s, now=None]\u001b[A\n",
      "chunk:  32%|███▏      | 33/102 [02:05<04:23,  3.81s/it, now=None]A\n",
      "chunk:   0%|          | 0/108 [00:00<?, ?it/s, now=None]\u001b[A"
     ]
    },
    {
     "name": "stdout",
     "output_type": "stream",
     "text": [
      "Moviepy - Done !\n",
      "Moviepy - video ready extractTest/video/long/122.mp4\n",
      "MoviePy - Writing audio in %s\n"
     ]
    },
    {
     "name": "stderr",
     "output_type": "stream",
     "text": [
      "\n",
      "chunk:  35%|███▌      | 38/108 [00:00<00:00, 288.66it/s, now=None]\u001b[A\n",
      "chunk:  54%|█████▎    | 58/108 [00:00<00:00, 251.76it/s, now=None]\u001b[A\n",
      "chunk:  69%|██████▊   | 74/108 [00:00<00:00, 211.06it/s, now=None]\u001b[A\n",
      "chunk:  81%|████████  | 87/108 [00:00<00:00, 159.51it/s, now=None]\u001b[A\n",
      "chunk:  94%|█████████▍| 102/108 [00:00<00:00, 153.79it/s, now=None]\u001b[A\n",
      "chunk:  32%|███▏      | 33/102 [02:06<04:24,  3.84s/it, now=None]  \u001b[A\n",
      "t:   0%|          | 0/147 [00:00<?, ?it/s, now=None]\u001b[A\n",
      "t:  13%|█▎        | 19/147 [00:00<00:00, 184.36it/s, now=None]\u001b[A"
     ]
    },
    {
     "name": "stdout",
     "output_type": "stream",
     "text": [
      "MoviePy - Done.\n",
      "Moviepy - Building video extractTest/video/long/126.mp4.\n",
      "Moviepy - Writing video extractTest/video/long/126.mp4\n",
      "\n"
     ]
    },
    {
     "name": "stderr",
     "output_type": "stream",
     "text": [
      "\n",
      "t:  30%|██▉       | 44/147 [00:00<00:00, 198.42it/s, now=None]\u001b[A\n",
      "t:  39%|███▉      | 57/147 [00:00<00:00, 170.43it/s, now=None]\u001b[A\n",
      "t:  52%|█████▏    | 77/147 [00:00<00:00, 177.60it/s, now=None]\u001b[A\n",
      "t:  65%|██████▌   | 96/147 [00:00<00:00, 179.41it/s, now=None]\u001b[A\n",
      "t:  76%|███████▌  | 112/147 [00:00<00:00, 165.94it/s, now=None]\u001b[A\n",
      "t:  86%|████████▋ | 127/147 [00:00<00:00, 157.64it/s, now=None]\u001b[A\n",
      "t:  99%|█████████▉| 146/147 [00:00<00:00, 166.00it/s, now=None]\u001b[A\n",
      "chunk:  32%|███▏      | 33/102 [02:07<04:26,  3.87s/it, now=None]A\n",
      "chunk:   0%|          | 0/99 [00:00<?, ?it/s, now=None]\u001b[A"
     ]
    },
    {
     "name": "stdout",
     "output_type": "stream",
     "text": [
      "Moviepy - Done !\n",
      "Moviepy - video ready extractTest/video/long/126.mp4\n",
      "MoviePy - Writing audio in %s\n"
     ]
    },
    {
     "name": "stderr",
     "output_type": "stream",
     "text": [
      "\n",
      "chunk:  38%|███▊      | 38/99 [00:00<00:00, 197.51it/s, now=None]\u001b[A\n",
      "chunk:  59%|█████▊    | 58/99 [00:00<00:00, 197.12it/s, now=None]\u001b[A\n",
      "chunk:  83%|████████▎ | 82/99 [00:00<00:00, 204.65it/s, now=None]\u001b[A\n",
      "chunk:  32%|███▏      | 33/102 [02:08<04:28,  3.89s/it, now=None]\u001b[A\n",
      "t:   0%|          | 0/135 [00:00<?, ?it/s, now=None]\u001b[A\n",
      "t:  10%|█         | 14/135 [00:00<00:00, 135.27it/s, now=None]\u001b[A"
     ]
    },
    {
     "name": "stdout",
     "output_type": "stream",
     "text": [
      "MoviePy - Done.\n",
      "Moviepy - Building video extractTest/video/long/127.mp4.\n",
      "Moviepy - Writing video extractTest/video/long/127.mp4\n",
      "\n"
     ]
    },
    {
     "name": "stderr",
     "output_type": "stream",
     "text": [
      "\n",
      "t:  21%|██▏       | 29/135 [00:00<00:00, 138.24it/s, now=None]\u001b[A\n",
      "t:  35%|███▍      | 47/135 [00:00<00:00, 147.80it/s, now=None]\u001b[A\n",
      "t:  46%|████▌     | 62/135 [00:00<00:00, 147.14it/s, now=None]\u001b[A\n",
      "t:  56%|█████▋    | 76/135 [00:00<00:00, 144.43it/s, now=None]\u001b[A\n",
      "t:  66%|██████▌   | 89/135 [00:00<00:00, 132.44it/s, now=None]\u001b[A\n",
      "t:  81%|████████  | 109/135 [00:00<00:00, 146.39it/s, now=None]\u001b[A\n",
      "t:  96%|█████████▌| 129/135 [00:00<00:00, 157.46it/s, now=None]\u001b[A\n",
      "chunk:  32%|███▏      | 33/102 [02:09<04:30,  3.92s/it, now=None]A\n",
      "chunk:   0%|          | 0/113 [00:00<?, ?it/s, now=None]\u001b[A"
     ]
    },
    {
     "name": "stdout",
     "output_type": "stream",
     "text": [
      "Moviepy - Done !\n",
      "Moviepy - video ready extractTest/video/long/127.mp4\n",
      "MoviePy - Writing audio in %s\n"
     ]
    },
    {
     "name": "stderr",
     "output_type": "stream",
     "text": [
      "\n",
      "chunk:  34%|███▎      | 38/113 [00:00<00:00, 249.69it/s, now=None]\u001b[A\n",
      "chunk:  54%|█████▍    | 61/113 [00:00<00:00, 243.24it/s, now=None]\u001b[A\n",
      "chunk:  76%|███████▌  | 86/113 [00:00<00:00, 242.12it/s, now=None]\u001b[A\n",
      "chunk:  97%|█████████▋| 110/113 [00:00<00:00, 241.11it/s, now=None]\u001b[A\n",
      "chunk:  32%|███▏      | 33/102 [02:09<04:31,  3.94s/it, now=None]  \u001b[A\n",
      "t:   0%|          | 0/153 [00:00<?, ?it/s, now=None]\u001b[A\n",
      "t:  13%|█▎        | 20/153 [00:00<00:00, 199.51it/s, now=None]\u001b[A"
     ]
    },
    {
     "name": "stdout",
     "output_type": "stream",
     "text": [
      "MoviePy - Done.\n",
      "Moviepy - Building video extractTest/video/long/128.mp4.\n",
      "Moviepy - Writing video extractTest/video/long/128.mp4\n",
      "\n"
     ]
    },
    {
     "name": "stderr",
     "output_type": "stream",
     "text": [
      "\n",
      "t:  20%|██        | 31/153 [00:00<00:00, 158.43it/s, now=None]\u001b[A\n",
      "t:  25%|██▌       | 39/153 [00:00<00:00, 118.00it/s, now=None]\u001b[A\n",
      "t:  31%|███▏      | 48/153 [00:00<00:01, 92.73it/s, now=None] \u001b[A\n",
      "t:  37%|███▋      | 57/153 [00:00<00:01, 86.82it/s, now=None]\u001b[A\n",
      "t:  42%|████▏     | 65/153 [00:00<00:01, 70.02it/s, now=None]\u001b[A\n",
      "t:  47%|████▋     | 72/153 [00:00<00:01, 68.09it/s, now=None]\u001b[A\n",
      "t:  52%|█████▏    | 79/153 [00:00<00:01, 64.86it/s, now=None]\u001b[A\n",
      "t:  58%|█████▊    | 89/153 [00:01<00:00, 72.05it/s, now=None]\u001b[A\n",
      "t:  63%|██████▎   | 97/153 [00:01<00:00, 68.50it/s, now=None]\u001b[A\n",
      "t:  69%|██████▉   | 106/153 [00:01<00:00, 69.84it/s, now=None]\u001b[A\n",
      "t:  75%|███████▍  | 114/153 [00:01<00:00, 69.91it/s, now=None]\u001b[A\n",
      "t:  80%|███████▉  | 122/153 [00:01<00:00, 60.14it/s, now=None]\u001b[A\n",
      "t:  84%|████████▍ | 129/153 [00:01<00:00, 58.19it/s, now=None]\u001b[A\n",
      "t:  89%|████████▉ | 136/153 [00:01<00:00, 60.25it/s, now=None]\u001b[A\n",
      "t:  93%|█████████▎| 143/153 [00:02<00:00, 50.58it/s, now=None]\u001b[A\n",
      "t:  98%|█████████▊| 150/153 [00:02<00:00, 45.45it/s, now=None]\u001b[A\n",
      "chunk:  32%|███▏      | 33/102 [02:13<04:38,  4.03s/it, now=None]\n",
      "chunk:   0%|          | 0/96 [00:00<?, ?it/s, now=None]\u001b[A"
     ]
    },
    {
     "name": "stdout",
     "output_type": "stream",
     "text": [
      "Moviepy - Done !\n",
      "Moviepy - video ready extractTest/video/long/128.mp4\n",
      "MoviePy - Writing audio in %s\n"
     ]
    },
    {
     "name": "stderr",
     "output_type": "stream",
     "text": [
      "\n",
      "chunk:  21%|██        | 20/96 [00:00<00:00, 196.28it/s, now=None]\u001b[A\n",
      "chunk:  40%|███▉      | 38/96 [00:00<00:00, 139.29it/s, now=None]\u001b[A\n",
      "chunk:  65%|██████▍   | 62/96 [00:00<00:00, 155.04it/s, now=None]\u001b[A\n",
      "chunk:  77%|███████▋  | 74/96 [00:00<00:00, 134.84it/s, now=None]\u001b[A\n",
      "chunk:  90%|████████▉ | 86/96 [00:00<00:00, 121.69it/s, now=None]\u001b[A\n",
      "chunk:  32%|███▏      | 33/102 [02:13<04:39,  4.06s/it, now=None]\u001b[A\n",
      "t:   0%|          | 0/131 [00:00<?, ?it/s, now=None]\u001b[A\n",
      "t:  15%|█▍        | 19/131 [00:00<00:00, 189.23it/s, now=None]\u001b[A"
     ]
    },
    {
     "name": "stdout",
     "output_type": "stream",
     "text": [
      "MoviePy - Done.\n",
      "Moviepy - Building video extractTest/video/long/138.mp4.\n",
      "Moviepy - Writing video extractTest/video/long/138.mp4\n",
      "\n"
     ]
    },
    {
     "name": "stderr",
     "output_type": "stream",
     "text": [
      "\n",
      "t:  32%|███▏      | 42/131 [00:00<00:00, 198.29it/s, now=None]\u001b[A\n",
      "t:  43%|████▎     | 56/131 [00:00<00:00, 172.48it/s, now=None]\u001b[A\n",
      "t:  55%|█████▍    | 72/131 [00:00<00:00, 167.98it/s, now=None]\u001b[A\n",
      "t:  65%|██████▍   | 85/131 [00:00<00:00, 144.58it/s, now=None]\u001b[A\n",
      "t:  75%|███████▍  | 98/131 [00:00<00:00, 132.70it/s, now=None]\u001b[A\n",
      "t:  92%|█████████▏| 121/131 [00:00<00:00, 151.32it/s, now=None]\u001b[A\n",
      "chunk:  32%|███▏      | 33/102 [02:14<04:42,  4.09s/it, now=None]A\n",
      "chunk:   0%|          | 0/100 [00:00<?, ?it/s, now=None]\u001b[A\n"
     ]
    },
    {
     "name": "stdout",
     "output_type": "stream",
     "text": [
      "Moviepy - Done !\n",
      "Moviepy - video ready extractTest/video/long/138.mp4\n",
      "MoviePy - Writing audio in %s\n"
     ]
    },
    {
     "name": "stderr",
     "output_type": "stream",
     "text": [
      "chunk:  38%|███▊      | 38/100 [00:00<00:00, 350.88it/s, now=None]\u001b[A\n",
      "chunk:  66%|██████▌   | 66/100 [00:00<00:00, 324.61it/s, now=None]\u001b[A\n",
      "chunk:  82%|████████▏ | 82/100 [00:00<00:00, 244.62it/s, now=None]\u001b[A\n",
      "chunk:  32%|███▏      | 33/102 [02:15<04:43,  4.10s/it, now=None] \u001b[A\n",
      "t:   0%|          | 0/136 [00:00<?, ?it/s, now=None]\u001b[A\n",
      "t:  15%|█▌        | 21/136 [00:00<00:00, 206.86it/s, now=None]\u001b[A"
     ]
    },
    {
     "name": "stdout",
     "output_type": "stream",
     "text": [
      "MoviePy - Done.\n",
      "Moviepy - Building video extractTest/video/long/140.mp4.\n",
      "Moviepy - Writing video extractTest/video/long/140.mp4\n",
      "\n"
     ]
    },
    {
     "name": "stderr",
     "output_type": "stream",
     "text": [
      "\n",
      "t:  34%|███▍      | 46/136 [00:00<00:00, 215.57it/s, now=None]\u001b[A\n",
      "t:  43%|████▎     | 58/136 [00:00<00:00, 162.16it/s, now=None]\u001b[A\n",
      "t:  57%|█████▋    | 78/136 [00:00<00:00, 171.10it/s, now=None]\u001b[A\n",
      "t:  68%|██████▊   | 92/136 [00:00<00:00, 159.95it/s, now=None]\u001b[A\n",
      "t:  80%|████████  | 109/136 [00:00<00:00, 161.15it/s, now=None]\u001b[A\n",
      "t:  96%|█████████▌| 130/136 [00:00<00:00, 172.94it/s, now=None]\u001b[A\n",
      "chunk:  32%|███▏      | 33/102 [02:16<04:45,  4.14s/it, now=None]A\n",
      "chunk:   0%|          | 0/144 [00:00<?, ?it/s, now=None]\u001b[A"
     ]
    },
    {
     "name": "stdout",
     "output_type": "stream",
     "text": [
      "Moviepy - Done !\n",
      "Moviepy - video ready extractTest/video/long/140.mp4\n",
      "MoviePy - Writing audio in %s\n"
     ]
    },
    {
     "name": "stderr",
     "output_type": "stream",
     "text": [
      "\n",
      "chunk:  26%|██▋       | 38/144 [00:00<00:00, 232.24it/s, now=None]\u001b[A\n",
      "chunk:  43%|████▎     | 62/144 [00:00<00:00, 229.36it/s, now=None]\u001b[A\n",
      "chunk:  62%|██████▎   | 90/144 [00:00<00:00, 240.71it/s, now=None]\u001b[A\n",
      "chunk:  83%|████████▎ | 120/144 [00:00<00:00, 251.44it/s, now=None]\u001b[A\n",
      "chunk: 100%|██████████| 144/144 [00:00<00:00, 245.19it/s, now=None]\u001b[A\n",
      "chunk:  32%|███▏      | 33/102 [02:17<04:47,  4.16s/it, now=None]  \u001b[A\n",
      "t:   0%|          | 0/195 [00:00<?, ?it/s, now=None]\u001b[A\n",
      "t:  10%|▉         | 19/195 [00:00<00:00, 188.91it/s, now=None]\u001b[A"
     ]
    },
    {
     "name": "stdout",
     "output_type": "stream",
     "text": [
      "MoviePy - Done.\n",
      "Moviepy - Building video extractTest/video/long/150.mp4.\n",
      "Moviepy - Writing video extractTest/video/long/150.mp4\n",
      "\n"
     ]
    },
    {
     "name": "stderr",
     "output_type": "stream",
     "text": [
      "\n",
      "t:  23%|██▎       | 45/195 [00:00<00:00, 204.60it/s, now=None]\u001b[A\n",
      "t:  29%|██▉       | 57/195 [00:00<00:00, 163.63it/s, now=None]\u001b[A\n",
      "t:  39%|███▉      | 77/195 [00:00<00:00, 171.35it/s, now=None]\u001b[A\n",
      "t:  50%|████▉     | 97/195 [00:00<00:00, 176.89it/s, now=None]\u001b[A\n",
      "t:  58%|█████▊    | 113/195 [00:00<00:00, 171.18it/s, now=None]\u001b[A\n",
      "t:  66%|██████▌   | 129/195 [00:00<00:00, 161.70it/s, now=None]\u001b[A\n",
      "t:  77%|███████▋  | 150/195 [00:00<00:00, 173.56it/s, now=None]\u001b[A\n",
      "t:  86%|████████▌ | 167/195 [00:00<00:00, 166.44it/s, now=None]\u001b[A\n",
      "t:  95%|█████████▌| 186/195 [00:01<00:00, 170.45it/s, now=None]\u001b[A\n",
      "chunk:  32%|███▏      | 33/102 [02:18<04:50,  4.21s/it, now=None]A\n",
      "chunk:   0%|          | 0/92 [00:00<?, ?it/s, now=None]\u001b[A"
     ]
    },
    {
     "name": "stdout",
     "output_type": "stream",
     "text": [
      "Moviepy - Done !\n",
      "Moviepy - video ready extractTest/video/long/150.mp4\n",
      "MoviePy - Writing audio in %s\n"
     ]
    },
    {
     "name": "stderr",
     "output_type": "stream",
     "text": [
      "\n",
      "chunk:  41%|████▏     | 38/92 [00:00<00:00, 275.91it/s, now=None]\u001b[A\n",
      "chunk:  76%|███████▌  | 70/92 [00:00<00:00, 279.65it/s, now=None]\u001b[A\n",
      "chunk:  32%|███▏      | 33/102 [02:19<04:51,  4.22s/it, now=None]\u001b[A\n",
      "t:   0%|          | 0/125 [00:00<?, ?it/s, now=None]\u001b[A\n",
      "t:  20%|██        | 25/125 [00:00<00:00, 241.82it/s, now=None]\u001b[A"
     ]
    },
    {
     "name": "stdout",
     "output_type": "stream",
     "text": [
      "MoviePy - Done.\n",
      "Moviepy - Building video extractTest/video/long/155.mp4.\n",
      "Moviepy - Writing video extractTest/video/long/155.mp4\n",
      "\n"
     ]
    },
    {
     "name": "stderr",
     "output_type": "stream",
     "text": [
      "\n",
      "t:  39%|███▉      | 49/125 [00:00<00:00, 239.87it/s, now=None]\u001b[A\n",
      "t:  50%|█████     | 63/125 [00:00<00:00, 196.96it/s, now=None]\u001b[A\n",
      "t:  67%|██████▋   | 84/125 [00:00<00:00, 199.29it/s, now=None]\u001b[A\n",
      "t:  82%|████████▏ | 102/125 [00:00<00:00, 191.90it/s, now=None]\u001b[A\n",
      "t:  98%|█████████▊| 122/125 [00:00<00:00, 193.43it/s, now=None]\u001b[A\n",
      "chunk:  32%|███▏      | 33/102 [02:20<04:52,  4.25s/it, now=None]A\n",
      "chunk:   0%|          | 0/72 [00:00<?, ?it/s, now=None]\u001b[A"
     ]
    },
    {
     "name": "stdout",
     "output_type": "stream",
     "text": [
      "Moviepy - Done !\n",
      "Moviepy - video ready extractTest/video/long/155.mp4\n",
      "MoviePy - Writing audio in %s\n"
     ]
    },
    {
     "name": "stderr",
     "output_type": "stream",
     "text": [
      "\n",
      "chunk:  53%|█████▎    | 38/72 [00:00<00:00, 300.07it/s, now=None]\u001b[A\n",
      "chunk:  97%|█████████▋| 70/72 [00:00<00:00, 299.09it/s, now=None]\u001b[A\n",
      "chunk:  32%|███▏      | 33/102 [02:20<04:53,  4.26s/it, now=None]\u001b[A\n",
      "t:   0%|          | 0/98 [00:00<?, ?it/s, now=None]\u001b[A\n",
      "t:  27%|██▋       | 26/98 [00:00<00:00, 253.94it/s, now=None]\u001b[A"
     ]
    },
    {
     "name": "stdout",
     "output_type": "stream",
     "text": [
      "MoviePy - Done.\n",
      "Moviepy - Building video extractTest/video/long/160.mp4.\n",
      "Moviepy - Writing video extractTest/video/long/160.mp4\n",
      "\n"
     ]
    },
    {
     "name": "stderr",
     "output_type": "stream",
     "text": [
      "\n",
      "t:  53%|█████▎    | 52/98 [00:00<00:00, 254.52it/s, now=None]\u001b[A\n",
      "t:  74%|███████▍  | 73/98 [00:00<00:00, 236.65it/s, now=None]\u001b[A\n",
      "t:  98%|█████████▊| 96/98 [00:00<00:00, 234.21it/s, now=None]\u001b[A\n",
      "chunk:  32%|███▏      | 33/102 [02:21<04:54,  4.28s/it, now=None]\n",
      "chunk:   0%|          | 0/72 [00:00<?, ?it/s, now=None]\u001b[A"
     ]
    },
    {
     "name": "stdout",
     "output_type": "stream",
     "text": [
      "Moviepy - Done !\n",
      "Moviepy - video ready extractTest/video/long/160.mp4\n",
      "MoviePy - Writing audio in %s\n"
     ]
    },
    {
     "name": "stderr",
     "output_type": "stream",
     "text": [
      "\n",
      "chunk:  53%|█████▎    | 38/72 [00:00<00:00, 274.56it/s, now=None]\u001b[A\n",
      "chunk:  92%|█████████▏| 66/72 [00:00<00:00, 271.51it/s, now=None]\u001b[A\n",
      "chunk:  32%|███▏      | 33/102 [02:21<04:55,  4.29s/it, now=None]\u001b[A\n",
      "t:   0%|          | 0/98 [00:00<?, ?it/s, now=None]\u001b[A\n",
      "t:  26%|██▌       | 25/98 [00:00<00:00, 243.36it/s, now=None]\u001b[A"
     ]
    },
    {
     "name": "stdout",
     "output_type": "stream",
     "text": [
      "MoviePy - Done.\n",
      "Moviepy - Building video extractTest/video/long/168.mp4.\n",
      "Moviepy - Writing video extractTest/video/long/168.mp4\n",
      "\n"
     ]
    },
    {
     "name": "stderr",
     "output_type": "stream",
     "text": [
      "\n",
      "t:  49%|████▉     | 48/98 [00:00<00:00, 235.73it/s, now=None]\u001b[A\n",
      "t:  67%|██████▋   | 66/98 [00:00<00:00, 213.68it/s, now=None]\u001b[A\n",
      "t:  86%|████████▌ | 84/98 [00:00<00:00, 201.31it/s, now=None]\u001b[A\n",
      "chunk:  32%|███▏      | 33/102 [02:22<04:57,  4.31s/it, now=None]\n",
      "chunk:   0%|          | 0/108 [00:00<?, ?it/s, now=None]\u001b[A"
     ]
    },
    {
     "name": "stdout",
     "output_type": "stream",
     "text": [
      "Moviepy - Done !\n",
      "Moviepy - video ready extractTest/video/long/168.mp4\n",
      "MoviePy - Writing audio in %s\n"
     ]
    },
    {
     "name": "stderr",
     "output_type": "stream",
     "text": [
      "\n",
      "chunk:  35%|███▌      | 38/108 [00:00<00:00, 342.60it/s, now=None]\u001b[A\n",
      "chunk:  61%|██████    | 66/108 [00:00<00:00, 315.02it/s, now=None]\u001b[A\n",
      "chunk:  91%|█████████ | 98/108 [00:00<00:00, 305.14it/s, now=None]\u001b[A\n",
      "chunk:  32%|███▏      | 33/102 [02:22<04:58,  4.32s/it, now=None] \u001b[A\n",
      "t:   0%|          | 0/147 [00:00<?, ?it/s, now=None]\u001b[A\n",
      "t:  17%|█▋        | 25/147 [00:00<00:00, 245.77it/s, now=None]\u001b[A"
     ]
    },
    {
     "name": "stdout",
     "output_type": "stream",
     "text": [
      "MoviePy - Done.\n",
      "Moviepy - Building video extractTest/video/long/170.mp4.\n",
      "Moviepy - Writing video extractTest/video/long/170.mp4\n",
      "\n"
     ]
    },
    {
     "name": "stderr",
     "output_type": "stream",
     "text": [
      "\n",
      "t:  31%|███       | 45/147 [00:00<00:00, 227.76it/s, now=None]\u001b[A\n",
      "t:  38%|███▊      | 56/147 [00:00<00:00, 171.38it/s, now=None]\u001b[A\n",
      "t:  52%|█████▏    | 76/147 [00:00<00:00, 176.68it/s, now=None]\u001b[A\n",
      "t:  61%|██████    | 90/147 [00:00<00:00, 142.48it/s, now=None]\u001b[A\n",
      "t:  73%|███████▎  | 108/147 [00:00<00:00, 151.54it/s, now=None]\u001b[A\n",
      "t:  85%|████████▌ | 125/147 [00:00<00:00, 155.86it/s, now=None]\u001b[A\n",
      "t:  99%|█████████▉| 146/147 [00:00<00:00, 168.39it/s, now=None]\u001b[A\n",
      "chunk:  32%|███▏      | 33/102 [02:23<05:00,  4.36s/it, now=None]A\n",
      "chunk:   0%|          | 0/73 [00:00<?, ?it/s, now=None]\u001b[A"
     ]
    },
    {
     "name": "stdout",
     "output_type": "stream",
     "text": [
      "Moviepy - Done !\n",
      "Moviepy - video ready extractTest/video/long/170.mp4\n",
      "MoviePy - Writing audio in %s\n"
     ]
    },
    {
     "name": "stderr",
     "output_type": "stream",
     "text": [
      "\n",
      "chunk:  52%|█████▏    | 38/73 [00:00<00:00, 324.74it/s, now=None]\u001b[A\n",
      "chunk:  96%|█████████▌| 70/73 [00:00<00:00, 314.61it/s, now=None]\u001b[A\n",
      "chunk:  32%|███▏      | 33/102 [02:24<05:01,  4.37s/it, now=None]\u001b[A\n",
      "t:   0%|          | 0/99 [00:00<?, ?it/s, now=None]\u001b[A\n",
      "t:  22%|██▏       | 22/99 [00:00<00:00, 217.60it/s, now=None]\u001b[A"
     ]
    },
    {
     "name": "stdout",
     "output_type": "stream",
     "text": [
      "MoviePy - Done.\n",
      "Moviepy - Building video extractTest/video/long/173.mp4.\n",
      "Moviepy - Writing video extractTest/video/long/173.mp4\n",
      "\n"
     ]
    },
    {
     "name": "stderr",
     "output_type": "stream",
     "text": [
      "\n",
      "t:  48%|████▊     | 48/99 [00:00<00:00, 225.72it/s, now=None]\u001b[A\n",
      "t:  68%|██████▊   | 67/99 [00:00<00:00, 210.30it/s, now=None]\u001b[A\n",
      "t:  93%|█████████▎| 92/99 [00:00<00:00, 218.77it/s, now=None]\u001b[A\n",
      "chunk:  32%|███▏      | 33/102 [02:24<05:02,  4.39s/it, now=None]\n",
      "chunk:   0%|          | 0/106 [00:00<?, ?it/s, now=None]\u001b[A"
     ]
    },
    {
     "name": "stdout",
     "output_type": "stream",
     "text": [
      "Moviepy - Done !\n",
      "Moviepy - video ready extractTest/video/long/173.mp4\n",
      "MoviePy - Writing audio in %s\n"
     ]
    },
    {
     "name": "stderr",
     "output_type": "stream",
     "text": [
      "\n",
      "chunk:  36%|███▌      | 38/106 [00:00<00:00, 254.82it/s, now=None]\u001b[A\n",
      "chunk:  66%|██████▌   | 70/106 [00:00<00:00, 264.52it/s, now=None]\u001b[A\n",
      "chunk:  92%|█████████▏| 98/106 [00:00<00:00, 267.17it/s, now=None]\u001b[A\n",
      "chunk:  32%|███▏      | 33/102 [02:25<05:03,  4.40s/it, now=None] \u001b[A\n",
      "t:   0%|          | 0/144 [00:00<?, ?it/s, now=None]\u001b[A\n",
      "t:  19%|█▉        | 27/144 [00:00<00:00, 266.89it/s, now=None]\u001b[A"
     ]
    },
    {
     "name": "stdout",
     "output_type": "stream",
     "text": [
      "MoviePy - Done.\n",
      "Moviepy - Building video extractTest/video/long/184.mp4.\n",
      "Moviepy - Writing video extractTest/video/long/184.mp4\n",
      "\n"
     ]
    },
    {
     "name": "stderr",
     "output_type": "stream",
     "text": [
      "\n",
      "t:  35%|███▌      | 51/144 [00:00<00:00, 255.25it/s, now=None]\u001b[A\n",
      "t:  51%|█████     | 73/144 [00:00<00:00, 242.03it/s, now=None]\u001b[A\n",
      "t:  67%|██████▋   | 97/144 [00:00<00:00, 240.66it/s, now=None]\u001b[A\n",
      "t:  84%|████████▍ | 121/144 [00:00<00:00, 237.69it/s, now=None]\u001b[A\n",
      "t:  99%|█████████▉| 143/144 [00:00<00:00, 230.84it/s, now=None]\u001b[A\n",
      "chunk:  32%|███▏      | 33/102 [02:26<05:05,  4.43s/it, now=None]A\n",
      "chunk:   0%|          | 0/84 [00:00<?, ?it/s, now=None]\u001b[A"
     ]
    },
    {
     "name": "stdout",
     "output_type": "stream",
     "text": [
      "Moviepy - Done !\n",
      "Moviepy - video ready extractTest/video/long/184.mp4\n",
      "MoviePy - Writing audio in %s\n"
     ]
    },
    {
     "name": "stderr",
     "output_type": "stream",
     "text": [
      "\n",
      "chunk:  45%|████▌     | 38/84 [00:00<00:00, 298.23it/s, now=None]\u001b[A\n",
      "chunk:  79%|███████▊  | 66/84 [00:00<00:00, 290.98it/s, now=None]\u001b[A\n",
      "chunk:  32%|███▏      | 33/102 [02:26<05:06,  4.44s/it, now=None]\u001b[A\n",
      "t:   0%|          | 0/114 [00:00<?, ?it/s, now=None]\u001b[A\n",
      "t:  21%|██        | 24/114 [00:00<00:00, 234.84it/s, now=None]\u001b[A"
     ]
    },
    {
     "name": "stdout",
     "output_type": "stream",
     "text": [
      "MoviePy - Done.\n",
      "Moviepy - Building video extractTest/video/long/186.mp4.\n",
      "Moviepy - Writing video extractTest/video/long/186.mp4\n",
      "\n"
     ]
    },
    {
     "name": "stderr",
     "output_type": "stream",
     "text": [
      "\n",
      "t:  42%|████▏     | 48/114 [00:00<00:00, 210.54it/s, now=None]\u001b[A\n",
      "t:  52%|█████▏    | 59/114 [00:00<00:00, 160.65it/s, now=None]\u001b[A\n",
      "t:  61%|██████▏   | 70/114 [00:00<00:00, 136.53it/s, now=None]\u001b[A\n",
      "t:  74%|███████▎  | 84/114 [00:00<00:00, 136.47it/s, now=None]\u001b[A\n",
      "t:  84%|████████▍ | 96/114 [00:00<00:00, 115.82it/s, now=None]\u001b[A\n",
      "t:  97%|█████████▋| 111/114 [00:00<00:00, 111.48it/s, now=None]\u001b[A\n",
      "chunk:  32%|███▏      | 33/102 [02:27<05:09,  4.48s/it, now=None]A\n",
      "chunk:   0%|          | 0/98 [00:00<?, ?it/s, now=None]\u001b[A"
     ]
    },
    {
     "name": "stdout",
     "output_type": "stream",
     "text": [
      "Moviepy - Done !\n",
      "Moviepy - video ready extractTest/video/long/186.mp4\n",
      "MoviePy - Writing audio in %s\n"
     ]
    },
    {
     "name": "stderr",
     "output_type": "stream",
     "text": [
      "\n",
      "chunk:  39%|███▉      | 38/98 [00:00<00:00, 271.87it/s, now=None]\u001b[A\n",
      "chunk:  67%|██████▋   | 66/98 [00:00<00:00, 270.48it/s, now=None]\u001b[A\n",
      "chunk:  96%|█████████▌| 94/98 [00:00<00:00, 269.92it/s, now=None]\u001b[A\n",
      "chunk:  32%|███▏      | 33/102 [02:28<05:10,  4.50s/it, now=None]\u001b[A\n",
      "t:   0%|          | 0/133 [00:00<?, ?it/s, now=None]\u001b[A\n",
      "t:  18%|█▊        | 24/133 [00:00<00:00, 235.85it/s, now=None]\u001b[A"
     ]
    },
    {
     "name": "stdout",
     "output_type": "stream",
     "text": [
      "MoviePy - Done.\n",
      "Moviepy - Building video extractTest/video/long/194.mp4.\n",
      "Moviepy - Writing video extractTest/video/long/194.mp4\n",
      "\n"
     ]
    },
    {
     "name": "stderr",
     "output_type": "stream",
     "text": [
      "\n",
      "t:  36%|███▌      | 48/133 [00:00<00:00, 219.08it/s, now=None]\u001b[A\n",
      "t:  46%|████▌     | 61/133 [00:00<00:00, 180.11it/s, now=None]\u001b[A\n",
      "t:  56%|█████▋    | 75/133 [00:00<00:00, 165.20it/s, now=None]\u001b[A\n",
      "t:  66%|██████▌   | 88/133 [00:00<00:00, 137.97it/s, now=None]\u001b[A\n",
      "t:  75%|███████▌  | 100/133 [00:00<00:00, 127.85it/s, now=None]\u001b[A\n",
      "t:  85%|████████▍ | 113/133 [00:00<00:00, 110.81it/s, now=None]\u001b[A\n",
      "t:  93%|█████████▎| 124/133 [00:00<00:00, 103.06it/s, now=None]\u001b[A\n",
      "chunk:  32%|███▏      | 33/102 [02:29<05:13,  4.54s/it, now=None]A\n",
      "chunk:   0%|          | 0/102 [00:00<?, ?it/s, now=None]\u001b[A"
     ]
    },
    {
     "name": "stdout",
     "output_type": "stream",
     "text": [
      "Moviepy - Done !\n",
      "Moviepy - video ready extractTest/video/long/194.mp4\n",
      "MoviePy - Writing audio in %s\n"
     ]
    },
    {
     "name": "stderr",
     "output_type": "stream",
     "text": [
      "\n",
      "chunk:  37%|███▋      | 38/102 [00:00<00:00, 326.11it/s, now=None]\u001b[A\n",
      "chunk:  65%|██████▍   | 66/102 [00:00<00:00, 304.32it/s, now=None]\u001b[A\n",
      "chunk:  94%|█████████▍| 96/102 [00:00<00:00, 300.57it/s, now=None]\u001b[A\n",
      "chunk:  32%|███▏      | 33/102 [02:30<05:14,  4.55s/it, now=None] \u001b[A\n",
      "t:   0%|          | 0/138 [00:00<?, ?it/s, now=None]\u001b[A\n",
      "t:  17%|█▋        | 24/138 [00:00<00:00, 236.34it/s, now=None]\u001b[A"
     ]
    },
    {
     "name": "stdout",
     "output_type": "stream",
     "text": [
      "MoviePy - Done.\n",
      "Moviepy - Building video extractTest/video/long/196.mp4.\n",
      "Moviepy - Writing video extractTest/video/long/196.mp4\n",
      "\n"
     ]
    },
    {
     "name": "stderr",
     "output_type": "stream",
     "text": [
      "\n",
      "t:  35%|███▍      | 48/138 [00:00<00:00, 215.72it/s, now=None]\u001b[A\n",
      "t:  44%|████▍     | 61/138 [00:00<00:00, 176.66it/s, now=None]\u001b[A\n",
      "t:  54%|█████▍    | 75/138 [00:00<00:00, 161.57it/s, now=None]\u001b[A\n",
      "t:  63%|██████▎   | 87/138 [00:00<00:00, 146.30it/s, now=None]\u001b[A\n",
      "t:  72%|███████▏  | 100/138 [00:00<00:00, 140.73it/s, now=None]\u001b[A\n",
      "t:  83%|████████▎ | 114/138 [00:00<00:00, 138.78it/s, now=None]\u001b[A\n",
      "t:  92%|█████████▏| 127/138 [00:00<00:00, 128.91it/s, now=None]\u001b[A\n",
      "chunk:  32%|███▏      | 33/102 [02:31<05:17,  4.60s/it, now=None]A\n",
      "chunk:   0%|          | 0/95 [00:00<?, ?it/s, now=None]\u001b[A"
     ]
    },
    {
     "name": "stdout",
     "output_type": "stream",
     "text": [
      "Moviepy - Done !\n",
      "Moviepy - video ready extractTest/video/long/196.mp4\n",
      "MoviePy - Writing audio in %s\n"
     ]
    },
    {
     "name": "stderr",
     "output_type": "stream",
     "text": [
      "\n",
      "chunk:  40%|████      | 38/95 [00:00<00:00, 245.49it/s, now=None]\u001b[A\n",
      "chunk:  69%|██████▉   | 66/95 [00:00<00:00, 247.36it/s, now=None]\u001b[A\n",
      "chunk:  32%|███▏      | 33/102 [02:32<05:18,  4.61s/it, now=None]\u001b[A\n",
      "t:   0%|          | 0/128 [00:00<?, ?it/s, now=None]\u001b[A\n",
      "t:  17%|█▋        | 22/128 [00:00<00:00, 216.81it/s, now=None]\u001b[A"
     ]
    },
    {
     "name": "stdout",
     "output_type": "stream",
     "text": [
      "MoviePy - Done.\n",
      "Moviepy - Building video extractTest/video/long/205.mp4.\n",
      "Moviepy - Writing video extractTest/video/long/205.mp4\n",
      "\n"
     ]
    },
    {
     "name": "stderr",
     "output_type": "stream",
     "text": [
      "\n",
      "t:  38%|███▊      | 48/128 [00:00<00:00, 191.52it/s, now=None]\u001b[A\n",
      "t:  46%|████▌     | 59/128 [00:00<00:00, 154.77it/s, now=None]\u001b[A\n",
      "t:  54%|█████▍    | 69/128 [00:00<00:00, 128.64it/s, now=None]\u001b[A\n",
      "t:  62%|██████▎   | 80/128 [00:00<00:00, 121.13it/s, now=None]\u001b[A\n",
      "t:  73%|███████▎  | 93/128 [00:00<00:00, 121.34it/s, now=None]\u001b[A\n",
      "t:  81%|████████▏ | 104/128 [00:00<00:00, 107.88it/s, now=None]\u001b[A\n",
      "t:  91%|█████████▏| 117/128 [00:00<00:00, 113.20it/s, now=None]\u001b[A\n",
      "t: 100%|██████████| 128/128 [00:01<00:00, 103.10it/s, now=None]\u001b[A\n",
      "chunk:  32%|███▏      | 33/102 [02:33<05:21,  4.66s/it, now=None]A\n",
      "chunk:   0%|          | 0/112 [00:00<?, ?it/s, now=None]\u001b[A\n",
      "chunk:  34%|███▍      | 38/112 [00:00<00:00, 304.94it/s, now=None]\u001b[A"
     ]
    },
    {
     "name": "stdout",
     "output_type": "stream",
     "text": [
      "Moviepy - Done !\n",
      "Moviepy - video ready extractTest/video/long/205.mp4\n",
      "MoviePy - Writing audio in %s\n"
     ]
    },
    {
     "name": "stderr",
     "output_type": "stream",
     "text": [
      "\n",
      "chunk:  59%|█████▉    | 66/112 [00:00<00:00, 293.78it/s, now=None]\u001b[A\n",
      "chunk:  89%|████████▉ | 100/112 [00:00<00:00, 297.17it/s, now=None]\u001b[A\n",
      "chunk:  32%|███▏      | 33/102 [02:34<05:22,  4.67s/it, now=None]  \u001b[A\n",
      "t:   0%|          | 0/152 [00:00<?, ?it/s, now=None]\u001b[A\n",
      "t:  16%|█▋        | 25/152 [00:00<00:00, 241.98it/s, now=None]\u001b[A"
     ]
    },
    {
     "name": "stdout",
     "output_type": "stream",
     "text": [
      "MoviePy - Done.\n",
      "Moviepy - Building video extractTest/video/long/206.mp4.\n",
      "Moviepy - Writing video extractTest/video/long/206.mp4\n",
      "\n"
     ]
    },
    {
     "name": "stderr",
     "output_type": "stream",
     "text": [
      "\n",
      "t:  32%|███▏      | 48/152 [00:00<00:00, 201.64it/s, now=None]\u001b[A\n",
      "t:  40%|████      | 61/152 [00:00<00:00, 169.95it/s, now=None]\u001b[A\n",
      "t:  48%|████▊     | 73/152 [00:00<00:00, 146.30it/s, now=None]\u001b[A\n",
      "t:  57%|█████▋    | 86/152 [00:00<00:00, 139.66it/s, now=None]\u001b[A\n",
      "t:  65%|██████▌   | 99/152 [00:00<00:00, 135.28it/s, now=None]\u001b[A\n",
      "t:  73%|███████▎  | 111/152 [00:00<00:00, 126.35it/s, now=None]\u001b[A\n",
      "t:  83%|████████▎ | 126/152 [00:00<00:00, 131.89it/s, now=None]\u001b[A\n",
      "t:  91%|█████████▏| 139/152 [00:01<00:00, 101.23it/s, now=None]\u001b[A\n",
      "t:  99%|█████████▊| 150/152 [00:01<00:00, 74.02it/s, now=None] \u001b[A\n",
      "chunk:  32%|███▏      | 33/102 [02:35<05:26,  4.72s/it, now=None]"
     ]
    },
    {
     "name": "stdout",
     "output_type": "stream",
     "text": [
      "Moviepy - Done !\n",
      "Moviepy - video ready extractTest/video/long/206.mp4\n"
     ]
    },
    {
     "name": "stderr",
     "output_type": "stream",
     "text": [
      "chunk:  32%|███▏      | 33/102 [02:36<05:26,  4.73s/it, now=None]\n",
      "chunk:   0%|          | 0/82 [00:00<?, ?it/s, now=None]\u001b[A\n",
      "chunk:  43%|████▎     | 35/82 [00:00<00:00, 347.92it/s, now=None]\u001b[A"
     ]
    },
    {
     "name": "stdout",
     "output_type": "stream",
     "text": [
      "MoviePy - Writing audio in %s\n"
     ]
    },
    {
     "name": "stderr",
     "output_type": "stream",
     "text": [
      "\n",
      "chunk:  56%|█████▌    | 46/82 [00:00<00:00, 122.15it/s, now=None]\u001b[A\n",
      "chunk:  73%|███████▎  | 60/82 [00:00<00:00, 119.80it/s, now=None]\u001b[A\n",
      "chunk:  32%|███▏      | 33/102 [02:36<05:27,  4.75s/it, now=None]\u001b[A\n",
      "t:   0%|          | 0/112 [00:00<?, ?it/s, now=None]\u001b[A\n",
      "t:  14%|█▍        | 16/112 [00:00<00:00, 155.97it/s, now=None]\u001b[A"
     ]
    },
    {
     "name": "stdout",
     "output_type": "stream",
     "text": [
      "MoviePy - Done.\n",
      "Moviepy - Building video extractTest/video/long/216.mp4.\n",
      "Moviepy - Writing video extractTest/video/long/216.mp4\n",
      "\n"
     ]
    },
    {
     "name": "stderr",
     "output_type": "stream",
     "text": [
      "\n",
      "t:  36%|███▌      | 40/112 [00:00<00:00, 173.50it/s, now=None]\u001b[A\n",
      "t:  46%|████▌     | 51/112 [00:00<00:00, 107.02it/s, now=None]\u001b[A\n",
      "t:  54%|█████▎    | 60/112 [00:00<00:00, 90.59it/s, now=None] \u001b[A\n",
      "t:  64%|██████▍   | 72/112 [00:00<00:00, 88.76it/s, now=None]\u001b[A\n",
      "t:  74%|███████▍  | 83/112 [00:00<00:00, 94.06it/s, now=None]\u001b[A\n",
      "t:  87%|████████▋ | 97/112 [00:00<00:00, 103.73it/s, now=None]\u001b[A\n",
      "t:  96%|█████████▋| 108/112 [00:00<00:00, 102.91it/s, now=None]\u001b[A\n",
      "chunk:  32%|███▏      | 33/102 [02:38<05:31,  4.80s/it, now=None]A\n",
      "chunk:   0%|          | 0/112 [00:00<?, ?it/s, now=None]\u001b[A"
     ]
    },
    {
     "name": "stdout",
     "output_type": "stream",
     "text": [
      "Moviepy - Done !\n",
      "Moviepy - video ready extractTest/video/long/216.mp4\n",
      "MoviePy - Writing audio in %s\n"
     ]
    },
    {
     "name": "stderr",
     "output_type": "stream",
     "text": [
      "\n",
      "chunk:  34%|███▍      | 38/112 [00:00<00:00, 206.33it/s, now=None]\u001b[A\n",
      "chunk:  45%|████▍     | 50/112 [00:00<00:00, 156.11it/s, now=None]\u001b[A\n",
      "chunk:  59%|█████▉    | 66/112 [00:00<00:00, 154.42it/s, now=None]\u001b[A\n",
      "chunk:  77%|███████▋  | 86/112 [00:00<00:00, 165.18it/s, now=None]\u001b[A\n",
      "chunk: 100%|██████████| 112/112 [00:00<00:00, 180.45it/s, now=None]\u001b[A\n",
      "chunk:  32%|███▏      | 33/102 [02:39<05:32,  4.82s/it, now=None]  \u001b[A\n",
      "t:   0%|          | 0/153 [00:00<?, ?it/s, now=None]\u001b[A\n",
      "t:  12%|█▏        | 18/153 [00:00<00:00, 173.94it/s, now=None]\u001b[A"
     ]
    },
    {
     "name": "stdout",
     "output_type": "stream",
     "text": [
      "MoviePy - Done.\n",
      "Moviepy - Building video extractTest/video/long/217.mp4.\n",
      "Moviepy - Writing video extractTest/video/long/217.mp4\n",
      "\n"
     ]
    },
    {
     "name": "stderr",
     "output_type": "stream",
     "text": [
      "\n",
      "t:  28%|██▊       | 43/153 [00:00<00:00, 190.55it/s, now=None]\u001b[A\n",
      "t:  36%|███▌      | 55/153 [00:00<00:00, 121.30it/s, now=None]\u001b[A\n",
      "t:  42%|████▏     | 65/153 [00:00<00:01, 87.88it/s, now=None] \u001b[A\n",
      "t:  48%|████▊     | 74/153 [00:00<00:01, 76.83it/s, now=None]\u001b[A\n",
      "t:  54%|█████▎    | 82/153 [00:00<00:01, 69.42it/s, now=None]\u001b[A\n",
      "t:  59%|█████▉    | 90/153 [00:00<00:00, 69.26it/s, now=None]\u001b[A\n",
      "t:  64%|██████▍   | 98/153 [00:01<00:00, 60.02it/s, now=None]\u001b[A\n",
      "t:  69%|██████▊   | 105/153 [00:01<00:00, 60.98it/s, now=None]\u001b[A\n",
      "t:  74%|███████▍  | 113/153 [00:01<00:00, 58.82it/s, now=None]\u001b[A\n",
      "t:  80%|███████▉  | 122/153 [00:01<00:00, 65.23it/s, now=None]\u001b[A\n",
      "t:  84%|████████▍ | 129/153 [00:01<00:00, 60.66it/s, now=None]\u001b[A\n",
      "t:  92%|█████████▏| 141/153 [00:01<00:00, 69.50it/s, now=None]\u001b[A\n",
      "t:  97%|█████████▋| 149/153 [00:01<00:00, 69.49it/s, now=None]\u001b[A\n",
      "chunk:  32%|███▏      | 33/102 [02:41<05:37,  4.90s/it, now=None]\n"
     ]
    },
    {
     "name": "stdout",
     "output_type": "stream",
     "text": [
      "Moviepy - Done !\n",
      "Moviepy - video ready extractTest/video/long/217.mp4\n",
      "MoviePy - Writing audio in %s\n"
     ]
    },
    {
     "name": "stderr",
     "output_type": "stream",
     "text": [
      "chunk:   0%|          | 0/73 [00:00<?, ?it/s, now=None]\u001b[A\n",
      "chunk:  52%|█████▏    | 38/73 [00:00<00:00, 201.19it/s, now=None]\u001b[A\n",
      "chunk:  74%|███████▍  | 54/73 [00:00<00:00, 179.86it/s, now=None]\u001b[A\n",
      "chunk:  32%|███▏      | 33/102 [02:42<05:39,  4.91s/it, now=None]\u001b[A\n",
      "t:   0%|          | 0/99 [00:00<?, ?it/s, now=None]\u001b[A\n",
      "t:  12%|█▏        | 12/99 [00:00<00:00, 116.47it/s, now=None]\u001b[A"
     ]
    },
    {
     "name": "stdout",
     "output_type": "stream",
     "text": [
      "MoviePy - Done.\n",
      "Moviepy - Building video extractTest/video/long/222.mp4.\n",
      "Moviepy - Writing video extractTest/video/long/222.mp4\n",
      "\n"
     ]
    },
    {
     "name": "stderr",
     "output_type": "stream",
     "text": [
      "\n",
      "t:  31%|███▏      | 31/99 [00:00<00:00, 130.67it/s, now=None]\u001b[A\n",
      "t:  51%|█████     | 50/99 [00:00<00:00, 141.88it/s, now=None]\u001b[A\n",
      "t:  71%|███████   | 70/99 [00:00<00:00, 154.30it/s, now=None]\u001b[A\n",
      "t:  90%|████████▉ | 89/99 [00:00<00:00, 163.47it/s, now=None]\u001b[A\n",
      "chunk:  32%|███▏      | 33/102 [02:42<05:40,  4.94s/it, now=None]"
     ]
    },
    {
     "name": "stdout",
     "output_type": "stream",
     "text": [
      "Moviepy - Done !\n",
      "Moviepy - video ready extractTest/video/long/222.mp4\n"
     ]
    }
   ],
   "source": [
    "for i, row in df.iterrows():\n",
    "    v = video.subclip(row.begin,row.end)\n",
    "    \n",
    "    audioFileName = AUDIO_DEST_FOLDER + str(i) + \".mp3\"\n",
    "    videoFileName = VIDEO_DEST_FOLDER + str(i) + \".mp4\"\n",
    "    \n",
    "    v.audio.write_audiofile(audioFileName, verbose=False)\n",
    "    v.write_videofile(videoFileName, verbose=False, audio=False)"
   ]
  },
  {
   "cell_type": "code",
   "execution_count": null,
   "metadata": {},
   "outputs": [],
   "source": []
  }
 ],
 "metadata": {
  "kernelspec": {
   "display_name": "Python 3",
   "language": "python",
   "name": "python3"
  },
  "language_info": {
   "codemirror_mode": {
    "name": "ipython",
    "version": 3
   },
   "file_extension": ".py",
   "mimetype": "text/x-python",
   "name": "python",
   "nbconvert_exporter": "python",
   "pygments_lexer": "ipython3",
   "version": "3.6.3"
  }
 },
 "nbformat": 4,
 "nbformat_minor": 2
}
